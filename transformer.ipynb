{
 "cells": [
  {
   "cell_type": "code",
   "execution_count": 38,
   "metadata": {},
   "outputs": [],
   "source": [
    "import torch\n",
    "import torchvision\n",
    "import torch.nn as nn\n",
    "import torchvision.transforms as transforms\n",
    "import torch.optim as optim\n",
    "import matplotlib.pyplot as plt\n",
    "from torch.optim.lr_scheduler import MultiStepLR\n",
    "import numpy as np\n",
    "import random\n",
    "import torch.nn.utils\n",
    "import textwrap\n",
    "import re\n",
    "from torch.nn import TransformerEncoder, TransformerEncoderLayer\n",
    "import math\n",
    "from torchsummary import summary\n",
    "import torch.nn.functional as F\n",
    "import tiktoken\n",
    "from transformers import AutoTokenizer\n",
    "from datasets import load_dataset\n",
    "import math\n",
    "import datasets\n",
    "from transformers import DataCollatorWithPadding\n",
    "from torch.utils.data import DataLoader"
   ]
  },
  {
   "cell_type": "code",
   "execution_count": 39,
   "metadata": {},
   "outputs": [
    {
     "name": "stdout",
     "output_type": "stream",
     "text": [
      "True\n"
     ]
    }
   ],
   "source": [
    "import os\n",
    "\n",
    "tokenized_dataset_path = os.getcwd() + '/tokenized_train_dataset'\n",
    "\n",
    "print(os.path.isdir(tokenized_dataset_path))\n",
    "\n",
    "def tokenization(example):\n",
    "    from transformers import AutoTokenizer\n",
    "    tokenizer = AutoTokenizer.from_pretrained(\"EleutherAI/gpt-neo-125M\")\n",
    "    tokenizer.pad_token = tokenizer.eos_token\n",
    "    return tokenizer(example['text'], truncation=True)\n",
    "\n",
    "def chunk_examples(examples):\n",
    "    window = 250\n",
    "    chunks = []\n",
    "    for sentence in examples[\"text\"]:\n",
    "        chunks += [sentence[i:i + window] for i in range(0, len(sentence), window)]\n",
    "    return {\"text\": chunks}\n",
    "\n",
    "def generate_tokenized_dataset(train: bool=True) -> DataLoader:\n",
    "    tokenizer = AutoTokenizer.from_pretrained(\"EleutherAI/gpt-neo-125M\")\n",
    "    tokenizer.pad_token = tokenizer.eos_token\n",
    "    if train:\n",
    "        dataset_type = \"train\"\n",
    "        tokenized_dataset_folder = 'tokenized_train_dataset'\n",
    "        tokenized_dataset_path = os.getcwd() + '/' + tokenized_dataset_folder\n",
    "    else:\n",
    "        dataset_type = \"test\"\n",
    "        tokenized_dataset_folder = 'tokenized_validation_dataset'\n",
    "        tokenized_dataset_path = os.getcwd() + '/tokenized_validation_dataset'\n",
    "    \n",
    "    if os.path.isdir(tokenized_dataset_path):\n",
    "        tokenized_entries = datasets.load_from_disk(tokenized_dataset_folder)\n",
    "       \n",
    "    else:\n",
    "        dataset = load_dataset(\"roneneldan/TinyStories\")\n",
    "        dataset = dataset[dataset_type]\n",
    "        updated_dataset = dataset.map(chunk_examples, batched=True, remove_columns=dataset.column_names, num_proc=5)\n",
    "        tokenized_entries = updated_dataset.map(tokenization, batched=True, num_proc=7)\n",
    "        tokenized_entries.save_to_disk(tokenized_dataset_folder)\n",
    "       \n",
    "        \n",
    "    \n",
    "    tokenized_entries = tokenized_entries.remove_columns([\"text\"])\n",
    "    data_collator = DataCollatorWithPadding(tokenizer=tokenizer, return_tensors=\"pt\")\n",
    "    data_loader = DataLoader(tokenized_entries, batch_size=128, shuffle=True, collate_fn=data_collator)\n",
    "    return data_loader"
   ]
  },
  {
   "cell_type": "code",
   "execution_count": 40,
   "metadata": {},
   "outputs": [
    {
     "data": {
      "text/plain": [
       "<torch.utils.data.dataloader.DataLoader at 0x210289920d0>"
      ]
     },
     "execution_count": 40,
     "metadata": {},
     "output_type": "execute_result"
    }
   ],
   "source": [
    "from transformers import AutoTokenizer\n",
    "tokenizer = AutoTokenizer.from_pretrained(\"EleutherAI/gpt-neo-125M\")\n",
    "tokenizer.pad_token = tokenizer.eos_token\n",
    "\n",
    "generate_tokenized_dataset(True)"
   ]
  },
  {
   "cell_type": "code",
   "execution_count": 41,
   "metadata": {},
   "outputs": [],
   "source": [
    "device = torch.device('cuda' if torch.cuda.is_available() else 'cpu')\n",
    "\n",
    "# file_paths = ['gutenberg_shakespeare.txt', 'gutenberg_war_and_peace.txt', 'gutenberg_don_quixote.txt', 'gutenberg_brothers_karamazov.txt']\n",
    "# # file_paths = ['gutenberg_war_and_peace.txt']\n",
    "# # Initialize an empty string to hold the combined content\n",
    "# combined_string = ''\n",
    "\n",
    "# # # Loop through each file path, open the file, read its content, and append it to the combined_string\n",
    "# # for file_path in file_paths:\n",
    "# #     file = open(file_path, 'r', encoding='utf-8-sig')\n",
    "# #     combined_string += file.read().strip()\n",
    "# #     file.close()  # Close the file after reading its content\n",
    "\n",
    "# for file_path in file_paths:\n",
    "#     with open(file_path, 'r', encoding='utf-8-sig') as file:\n",
    "#         # Read file content, split by lines, strip each line and then join them back\n",
    "#         content = file.read().splitlines()[30:-18500]\n",
    "#         stripped_content = \" \".join([line.strip() for line in content if line.strip()])  # Strip leading/trailing whitespace and remove empty lines\n",
    "#         combined_string += stripped_content\n",
    "\n",
    "\n",
    "# # combined_string = re.sub(r'\\n\\s*\\n', '\\n', combined_string)\n",
    "# #combined_string = re.sub(r\"[\\n\\t]*\", \"\", combined_string)\n",
    "\n",
    "# unique_chars = list(set(combined_string))\n",
    "# # print(unique_chars)\n",
    "# m = len(unique_chars)\n",
    "# print(m)\n",
    "\n",
    "# dataset = load_dataset(\"roneneldan/TinyStories\")"
   ]
  },
  {
   "cell_type": "code",
   "execution_count": 42,
   "metadata": {},
   "outputs": [],
   "source": [
    "# def chunk_examples(examples):\n",
    "#     window = 500\n",
    "#     chunks = []\n",
    "#     for sentence in examples[\"text\"]:\n",
    "#         chunks += [sentence[i:i + window] for i in range(0, len(sentence), window)]\n",
    "#     return {\"text\": chunks}"
   ]
  },
  {
   "cell_type": "code",
   "execution_count": 43,
   "metadata": {},
   "outputs": [],
   "source": [
    "# train_dataset = dataset['train']\n",
    "# updated_train_dataset = train_dataset.map(chunk_examples, batched=True,remove_columns=train_dataset.column_names, num_proc=5)"
   ]
  },
  {
   "cell_type": "code",
   "execution_count": 44,
   "metadata": {},
   "outputs": [],
   "source": [
    "# encoding = tiktoken.get_encoding(\"r50k_base\")\n",
    "# tokenizer = AutoTokenizer.from_pretrained(\"EleutherAI/gpt-neo-125M\")"
   ]
  },
  {
   "cell_type": "code",
   "execution_count": 45,
   "metadata": {},
   "outputs": [],
   "source": [
    "# tokenizer = AutoTokenizer.from_pretrained(\"EleutherAI/gpt-neo-125M\")\n",
    "# tokenizer.pad_token = tokenizer.eos_token\n",
    "# def tokenization(example):\n",
    "#     from transformers import AutoTokenizer\n",
    "#     tokenizer = AutoTokenizer.from_pretrained(\"EleutherAI/gpt-neo-125M\")\n",
    "#     tokenizer.pad_token = tokenizer.eos_token\n",
    "#     return tokenizer(example['text'], truncation=True)"
   ]
  },
  {
   "cell_type": "code",
   "execution_count": 46,
   "metadata": {},
   "outputs": [],
   "source": [
    "# # train_dataset = dataset['train']\n",
    "# # tokenized_entries = train_dataset.map(tokenization, batched=True)\n",
    "# # tokenized_entries = encoding.batch_encode_plus(train_dataset['text'], \n",
    "# #                                                return_tensors=\"pt\")\n",
    "# # tokenized_entries = encoding(train_dataset['text'], return_tensors=\"pt\")\n",
    "# tokenized_entries = updated_train_dataset.map(tokenization, batched=True, num_proc=7)\n",
    "# tokenized_entries.save_to_disk(\"tokenized_train_dataset\")"
   ]
  },
  {
   "cell_type": "code",
   "execution_count": 47,
   "metadata": {},
   "outputs": [],
   "source": [
    "# tokenized_entries = datasets.load_from_disk('tokenized_train_dataset')\n",
    "# tokenized_entries = tokenized_entries.remove_columns([\"text\"])\n",
    "# # print(tokenized_entries)"
   ]
  },
  {
   "cell_type": "code",
   "execution_count": 48,
   "metadata": {},
   "outputs": [],
   "source": [
    "# data_collator = DataCollatorWithPadding(tokenizer=tokenizer, return_tensors=\"pt\")\n",
    "# train_loader = DataLoader(tokenized_entries, batch_size=int(32/2), shuffle=True, collate_fn=data_collator)"
   ]
  },
  {
   "cell_type": "code",
   "execution_count": 49,
   "metadata": {},
   "outputs": [],
   "source": [
    "# input_feature_dim = m\n",
    "# input_feature_dim = 50257\n",
    "input_feature_dim = tokenizer.vocab_size\n",
    "hidden_size = 512\n",
    "# hidden_size = 2048"
   ]
  },
  {
   "cell_type": "code",
   "execution_count": 50,
   "metadata": {},
   "outputs": [],
   "source": [
    "class TransformerModel(nn.Module):\n",
    "    def __init__(self, input_feature_dim, d_model, num_heads, num_layers):\n",
    "        super(TransformerModel, self).__init__()\n",
    "        self.embedding = nn.Embedding(input_feature_dim, d_model)\n",
    "        self.transformer = nn.TransformerEncoder(\n",
    "            nn.TransformerEncoderLayer(d_model=d_model, nhead=num_heads, dropout=0.1),\n",
    "            num_layers=num_layers\n",
    "        )\n",
    "        self.fc = nn.Linear(d_model, input_feature_dim)\n",
    "        self.pos_encoder = PositionalEncoding(d_model)\n",
    "\n",
    "    def generate_square_subsequent_mask(self, sz):\n",
    "        mask = (torch.triu(torch.ones(sz, sz)) == 1).transpose(0, 1)\n",
    "        mask = mask.float().masked_fill(mask == 0, float('-inf')).masked_fill(mask == 1, float(0.0))\n",
    "        return mask\n",
    "\n",
    "    def forward(self, x):\n",
    "        x = self.embedding(x)\n",
    "        x = self.pos_encoder(x)\n",
    "        mask = self.generate_square_subsequent_mask(len(x)).to(device)\n",
    "        x = x.permute(1,0,2)\n",
    "        x = self.transformer(x, mask)\n",
    "        x = x.permute(1,0,2)\n",
    "        x = self.fc(x)\n",
    "        return x\n",
    "    \n",
    "\n",
    "class PositionalEncoding(nn.Module):\n",
    "\n",
    "    def __init__(self, d_model: int, max_len: int = 5000):\n",
    "        super().__init__()\n",
    "\n",
    "        position = torch.arange(max_len).unsqueeze(1)\n",
    "        div_term = torch.exp(torch.arange(0, d_model, 2) * (-math.log(10000.0) / d_model))\n",
    "        pe = torch.zeros(max_len, 1, d_model)\n",
    "        pe[:, 0, 0::2] = torch.sin(position * div_term)\n",
    "        pe[:, 0, 1::2] = torch.cos(position * div_term)\n",
    "        self.register_buffer('pe', pe)\n",
    "\n",
    "    def forward(self, x: torch.Tensor) -> torch.Tensor:\n",
    "        \"\"\"\n",
    "        Arguments:\n",
    "            x: Tensor, shape ``[seq_len, batch_size, embedding_dim]``\n",
    "        \"\"\"\n",
    "        \n",
    "        x = x + (self.pe[:x.size(0)])\n",
    "        return x"
   ]
  },
  {
   "cell_type": "code",
   "execution_count": 51,
   "metadata": {},
   "outputs": [],
   "source": [
    "num_heads = 6\n",
    "num_layers = 8\n",
    "transformer_model = TransformerModel(input_feature_dim, hidden_size-(hidden_size%num_heads), num_heads=num_heads, num_layers=num_layers).to(device)\n",
    "# transformer_model = TransformerModel(input_feature_dim, int(input_feature_dim/2) - (int(input_feature_dim/2) % 4)).to(device)\n",
    "pad_token = tokenizer.encode(tokenizer.pad_token)[0]\n",
    "criterion = nn.CrossEntropyLoss(ignore_index=pad_token)\n",
    "optimizer = optim.AdamW(transformer_model.parameters(), lr = 0.001)\n",
    "# scheduler = MultiStepLR(optimizer, milestones=[2500, 7000], gamma=0.1)\n",
    "scheduler = torch.optim.lr_scheduler.ExponentialLR(optimizer, gamma = 0.98)\n",
    "train_temperature = 1.0\n"
   ]
  },
  {
   "cell_type": "code",
   "execution_count": 52,
   "metadata": {},
   "outputs": [],
   "source": [
    "def softmax_with_temperature(logits, temperature):\n",
    "    return F.softmax(logits / temperature, dim=-1)"
   ]
  },
  {
   "cell_type": "code",
   "execution_count": 53,
   "metadata": {},
   "outputs": [
    {
     "name": "stdout",
     "output_type": "stream",
     "text": [
      "76400381\n"
     ]
    }
   ],
   "source": [
    "# print(summary(transformer_model, (1,m)))\n",
    "pytorch_total_params = sum(p.numel() for p in transformer_model.parameters())\n",
    "print(pytorch_total_params)\n"
   ]
  },
  {
   "cell_type": "code",
   "execution_count": 54,
   "metadata": {},
   "outputs": [],
   "source": [
    "# combined_string = dataset['train'][:]['text']\n",
    "\n",
    "# batch_size = 250\n",
    "# batches = [combined_string[i:i+batch_size][0] for i in range(0, len(combined_string), batch_size)]\n",
    "# if len(batches[-1]) != batch_size:\n",
    "#     batches.pop()\n",
    "\n",
    "# char_1 = 0\n",
    "# batches = batches\n",
    "# for i in batches:\n",
    "#     char_1 += len(i)\n",
    "# print(len(batches))\n",
    "# print(len(combined_string))\n",
    "# # print(batches[-1])\n",
    "# print(dataset['train'][-1])\n",
    "# print(combined_string[-1])\n",
    "# batches = dataset['train']\n",
    "# chars = 0\n",
    "# for i,batch in enumerate(batches):\n",
    "#     chars += len(batch['text'])\n",
    "# # print(i)\n",
    "# print(char_1)\n",
    "# print(chars)\n",
    "# num_sequences = 30000"
   ]
  },
  {
   "cell_type": "code",
   "execution_count": 55,
   "metadata": {},
   "outputs": [
    {
     "name": "stderr",
     "output_type": "stream",
     "text": [
      "C:\\Users\\vjsam\\AppData\\Local\\Temp\\ipykernel_29184\\751499755.py:20: UserWarning: To copy construct from a tensor, it is recommended to use sourceTensor.clone().detach() or sourceTensor.clone().detach().requires_grad_(True), rather than torch.tensor(sourceTensor).\n",
      "  sequence = torch.tensor(input['input_ids']).to(device)\n",
      "C:\\Users\\vjsam\\AppData\\Local\\Temp\\ipykernel_29184\\751499755.py:21: UserWarning: To copy construct from a tensor, it is recommended to use sourceTensor.clone().detach() or sourceTensor.clone().detach().requires_grad_(True), rather than torch.tensor(sourceTensor).\n",
      "  attn_mask = torch.tensor(input['attention_mask'])[:, 1:].to(device)\n"
     ]
    },
    {
     "name": "stdout",
     "output_type": "stream",
     "text": [
      "Iteration: 1000/305479\n"
     ]
    }
   ],
   "source": [
    "num_epochs = 1\n",
    "training_loss_values = []\n",
    "training_error_values = []\n",
    "validation_loss_values = []\n",
    "validation_error_values = []\n",
    "x_vals = []\n",
    "x_val = 1\n",
    "validation_x_vals = []\n",
    "num_validation_seq = 5\n",
    "\n",
    "\n",
    "for epoch in range(num_epochs):\n",
    "\n",
    "    loss_accumulator = 0\n",
    "    error_accumulator = 0\n",
    "    \n",
    "    for i,input in enumerate(train_loader):\n",
    "    # for i, input in enumerate(batches):\n",
    "        # input = input['text']\n",
    "        sequence = torch.tensor(input['input_ids']).to(device)\n",
    "        attn_mask = torch.tensor(input['attention_mask'])[:, 1:].to(device)\n",
    "        # print(attn_mask.shape)\n",
    "        # print(sequence.shape)\n",
    "        transformer_model.train()\n",
    "        # tokens = encoding.encode(input)\n",
    "        # sequence = torch.tensor(tokens).long().to(device)\n",
    "        labels = sequence[:,1:].contiguous().view(-1)\n",
    "        output = transformer_model(sequence[:,:-1])\n",
    "        # print(output.shape)\n",
    "        # pad_tensor = torch.zeros_like(output)\n",
    "        # pad_tensor[:, :, pad_token] = 1\n",
    "        # attn_mask = attn_mask.unsqueeze(2).repeat(1,1,50257)\n",
    "        # # print(attn_mask.unsqueeze(2).repeat(1,1,50257).shape)\n",
    "        # output = torch.where(attn_mask==1, output, pad_tensor)\n",
    "        \n",
    "        output = output.view(-1, output.size(-1))\n",
    "        \n",
    "        loss = criterion(output,labels)\n",
    "        # softmaxed_logits = softmax_with_temperature(output, train_temperature)\n",
    "        # loss = nn.NLLLoss()(torch.log(softmaxed_logits), labels)\n",
    "        optimizer.zero_grad()\n",
    "        loss.backward()\n",
    "        # torch.nn.utils.clip_grad_norm_(rnn.parameters(), 15.0)\n",
    "        loss_accumulator += loss.item()\n",
    "        optimizer.step()\n",
    "        # training_loss_values.append(loss.item())\n",
    "        \n",
    "        predicted_labels = torch.argmax(output,dim=1)\n",
    "        training_error = 1.0 - (labels == predicted_labels).sum()/(len(labels))\n",
    "        # training_error_values.append(training_error.item())\n",
    "        error_accumulator += training_error.item()\n",
    "\n",
    "        # x_vals.append(x_val)\n",
    "\n",
    "        if x_val % 50 == 0:  # If 50 iterations have passed\n",
    "            avg_loss = loss_accumulator / 50.0\n",
    "            avg_error = error_accumulator / 50.0\n",
    "            training_loss_values.append(avg_loss)\n",
    "            training_error_values.append(avg_error)\n",
    "            x_vals.append(x_val)\n",
    "            # Reset the accumulators\n",
    "            loss_accumulator = 0\n",
    "            error_accumulator = 0\n",
    "\n",
    "        if (x_val % 1000) == 0:\n",
    "            transformer_model.eval()\n",
    "            print('Iteration: {}/{}'.format(x_val, len(train_loader)))\n",
    "\n",
    "            test_loss_accumulator = 0\n",
    "            test_error_accumulator = 0\n",
    "            \n",
    "            # # Validation\n",
    "            # for j in range(num_validation_seq):\n",
    "            #     future_sequence = torch.tensor(tokenized_train_dataset[i+j+1]['input_ids']).to(device)\n",
    "            #     # future_tokens = encoding.encode(future_input)\n",
    "            #     # future_sequence = torch.tensor(future_tokens).long().to(device)\n",
    "            #     future_output = transformer_model(future_sequence[:-1])\n",
    "            #     future_labels = future_sequence[1:]\n",
    "            #     future_loss = criterion(future_output, future_labels)\n",
    "            #     # future_softmaxed_logits = softmax_with_temperature(future_output, train_temperature)\n",
    "            #     # future_loss = nn.NLLLoss()(torch.log(future_softmaxed_logits), future_labels)\n",
    "            #     # validation_loss_values.append(future_loss.item())\n",
    "            #     test_loss_accumulator += future_loss.item()\n",
    "            #     future_predicted_labels = torch.argmax(future_output, dim=1)\n",
    "            #     validation_error = (1.0 - (future_labels == future_predicted_labels).sum() / (len(future_sequence) - 1)).item()\n",
    "            #     # validation_error_values.append(validation_error.item())\n",
    "            #     test_error_accumulator += validation_error\n",
    "            # validation_loss_values.append((test_loss_accumulator/num_validation_seq))\n",
    "            # validation_error_values.append((test_error_accumulator/num_validation_seq))\n",
    "            # validation_x_vals.append(x_val)\n",
    "        \n",
    "        if x_val==20000:\n",
    "            break\n",
    "            \n",
    "        x_val +=1\n",
    "        # scheduler.step()"
   ]
  },
  {
   "cell_type": "code",
   "execution_count": null,
   "metadata": {},
   "outputs": [
    {
     "data": {
      "text/plain": [
       "<Figure size 640x480 with 0 Axes>"
      ]
     },
     "execution_count": 21,
     "metadata": {},
     "output_type": "execute_result"
    },
    {
     "data": {
      "image/png": "[encoded data removed]",
      "text/plain": [
       "<Figure size 640x480 with 1 Axes>"
      ]
     },
     "metadata": {},
     "output_type": "display_data"
    },
    {
     "data": {
      "image/png": "[encoded data removed]",
      "text/plain": [
       "<Figure size 640x480 with 1 Axes>"
      ]
     },
     "metadata": {},
     "output_type": "display_data"
    },
    {
     "data": {
      "text/plain": [
       "<Figure size 640x480 with 0 Axes>"
      ]
     },
     "metadata": {},
     "output_type": "display_data"
    }
   ],
   "source": [
    "# output,_ = rnn(input[40].to(device))\n",
    "# output = [unique_chars[i] for i in torch.argmax(output, dim=1).tolist()]\n",
    "# output = torch.tensor(unique_chars)\n",
    "# [torch.argmax(output, dim=1)]\n",
    "# print(batches[40])\n",
    "# # print((output))\n",
    "# # print(output)\n",
    "# print(error)\n",
    "# print(current_labels)\n",
    "# print(torch.argmax(output,dim=1))\n",
    "# test = [1,2,3,4,5]\n",
    "\n",
    "# training_error_values = [i.cpu().item() for i in training_error_values]\n",
    "# validation_error_values = [i.cpu().item() for i in validation_error_values]\n",
    "# validation_loss_values = [i.cpu().item() for i in validation_loss_values]\n",
    "\n",
    "\n",
    "plt.figure()\n",
    "plt.plot(x_vals,training_loss_values)\n",
    "plt.xlabel('Weight Update Iteration')\n",
    "plt.ylabel('Loss Value')\n",
    "plt.title('Training Loss')\n",
    "plt.figure()\n",
    "plt.plot(x_vals, training_error_values)\n",
    "plt.xlabel('Weight Update Iteration')\n",
    "plt.ylabel('Error')\n",
    "plt.title('Training Error')\n",
    "plt.figure()\n",
    "# plt.plot(validation_x_vals, validation_loss_values)\n",
    "# plt.xlabel('Weight Update Iteration')\n",
    "# plt.ylabel('Loss Value')\n",
    "# plt.title('Validation Loss')\n",
    "# plt.figure()\n",
    "# plt.plot(validation_x_vals, validation_error_values)\n",
    "# plt.xlabel('Weight Update Iteration')\n",
    "# plt.ylabel('Error')\n",
    "# plt.title('Validation Error')\n",
    "# plt.show()"
   ]
  },
  {
   "cell_type": "code",
   "execution_count": null,
   "metadata": {},
   "outputs": [
    {
     "name": "stdout",
     "output_type": "stream",
     "text": [
      "I went to the store. I got it and you learned her lesson and promised to never forget the kind color she could. It was his favorite skills, and that someone, even if someone was not enough, his original self. And it made her very happy. The end. The end. The moral of this story is to never always listen to your friends. If you might ever make things don't stop you may always ask by eating something that you can be tempting. It's a great idea and angel.\"\n",
      "\n",
      " \n"
     ]
    }
   ],
   "source": [
    "test_temperature = 1.0\n",
    "transformer_model.eval()\n",
    "capital_letters = [chr(i) for i in range(65, 91)]\n",
    "example_sentences = []\n",
    "initialize = [\"I went to the store.\"]\n",
    "# initialize = ['Tom and Jane are friends. One day, Jane goes to Tom’s house. Tom has a big pot of soup. He wants to share it with Jane. “Jane, do you want some soup?” Tom asks. “Yes, please. It looks yummy,” Jane says. Tom pours some soup into two bowls. He gives one bowl to Jane. Jane takes a spoonful of soup, but then she makes a face. The soup is']\n",
    "inference_tokens = 100\n",
    "for i in range(1):\n",
    "    sentence = initialize[i]\n",
    "    tokenized_sentence = tokenizer.encode(sentence)\n",
    "    next_char = torch.tensor(tokenized_sentence).long().unsqueeze(0).to(device)\n",
    "    for j in range(inference_tokens):\n",
    "        next_char = transformer_model(next_char)\n",
    "        # print(next_char.shape)\n",
    "        # print(next_char.shape)\n",
    "        next_softmax = softmax_with_temperature(next_char, test_temperature)\n",
    "        # predicted_char = torch.argmax(next_softmax,dim=1)\n",
    "        predicted_char = torch.multinomial(next_softmax[0,-1],1)\n",
    "        # letter = unique_chars[predicted_char[-1]]\n",
    "        letter = tokenizer.decode([predicted_char.item()])\n",
    "        sentence += letter\n",
    "        # next_char = torch.tensor(tokenize(sentence)).long().to(device)\n",
    "        next_tokenized_sentence = tokenizer.encode(sentence)\n",
    "        next_char = torch.tensor(next_tokenized_sentence).unsqueeze(0).long().to(device)\n",
    "    example_sentences.append(sentence)\n",
    "example_sentences = np.array(example_sentences)\n",
    "print(example_sentences[0])\n",
    "# print(example_sentences[1])\n",
    "# print(example_sentences[2])\n",
    "# print(example_sentences[3])\n",
    "# print(example_sentences[4])"
   ]
  }
 ],
 "metadata": {
  "kernelspec": {
   "display_name": "base",
   "language": "python",
   "name": "python3"
  },
  "language_info": {
   "codemirror_mode": {
    "name": "ipython",
    "version": 3
   },
   "file_extension": ".py",
   "mimetype": "text/x-python",
   "name": "python",
   "nbconvert_exporter": "python",
   "pygments_lexer": "ipython3",
   "version": "3.9.13"
  },
  "orig_nbformat": 4
 },
 "nbformat": 4,
 "nbformat_minor": 2
}
