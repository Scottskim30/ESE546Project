{
 "cells": [
  {
   "cell_type": "code",
   "execution_count": 47,
   "metadata": {},
   "outputs": [],
   "source": [
    "import torch\n",
    "import torchvision\n",
    "import torch.nn as nn\n",
    "import torchvision.transforms as transforms\n",
    "import torch.optim as optim\n",
    "import matplotlib.pyplot as plt\n",
    "from torch.optim.lr_scheduler import MultiStepLR\n",
    "import numpy as np\n",
    "import random\n",
    "import torch.nn.utils\n",
    "import textwrap\n",
    "import re\n",
    "from torch.nn import TransformerEncoder, TransformerEncoderLayer\n",
    "import math\n",
    "from torchsummary import summary\n",
    "import torch.nn.functional as F\n",
    "import tiktoken\n",
    "from transformers import AutoTokenizer\n",
    "from datasets import load_dataset\n",
    "import math\n",
    "import datasets"
   ]
  },
  {
   "cell_type": "code",
   "execution_count": 17,
   "metadata": {},
   "outputs": [
    {
     "name": "stdout",
     "output_type": "stream",
     "text": [
      "116\n"
     ]
    },
    {
     "name": "stderr",
     "output_type": "stream",
     "text": [
      "c:\\Users\\vjsam\\anaconda3\\lib\\site-packages\\huggingface_hub\\repocard.py:105: UserWarning: Repo card metadata block was not found. Setting CardData to empty.\n",
      "  warnings.warn(\"Repo card metadata block was not found. Setting CardData to empty.\")\n"
     ]
    }
   ],
   "source": [
    "device = torch.device('cuda' if torch.cuda.is_available() else 'cpu')\n",
    "\n",
    "file_paths = ['gutenberg_shakespeare.txt', 'gutenberg_war_and_peace.txt', 'gutenberg_don_quixote.txt', 'gutenberg_brothers_karamazov.txt']\n",
    "# file_paths = ['gutenberg_war_and_peace.txt']\n",
    "# Initialize an empty string to hold the combined content\n",
    "combined_string = ''\n",
    "\n",
    "# # Loop through each file path, open the file, read its content, and append it to the combined_string\n",
    "# for file_path in file_paths:\n",
    "#     file = open(file_path, 'r', encoding='utf-8-sig')\n",
    "#     combined_string += file.read().strip()\n",
    "#     file.close()  # Close the file after reading its content\n",
    "\n",
    "for file_path in file_paths:\n",
    "    with open(file_path, 'r', encoding='utf-8-sig') as file:\n",
    "        # Read file content, split by lines, strip each line and then join them back\n",
    "        content = file.read().splitlines()[30:-18500]\n",
    "        stripped_content = \" \".join([line.strip() for line in content if line.strip()])  # Strip leading/trailing whitespace and remove empty lines\n",
    "        combined_string += stripped_content\n",
    "\n",
    "\n",
    "# combined_string = re.sub(r'\\n\\s*\\n', '\\n', combined_string)\n",
    "#combined_string = re.sub(r\"[\\n\\t]*\", \"\", combined_string)\n",
    "\n",
    "unique_chars = list(set(combined_string))\n",
    "# print(unique_chars)\n",
    "m = len(unique_chars)\n",
    "print(m)\n",
    "\n",
    "dataset = load_dataset(\"roneneldan/TinyStories\")"
   ]
  },
  {
   "cell_type": "code",
   "execution_count": 18,
   "metadata": {},
   "outputs": [
    {
     "name": "stdout",
     "output_type": "stream",
     "text": [
      "DatasetDict({\n",
      "    train: Dataset({\n",
      "        features: ['text'],\n",
      "        num_rows: 2119719\n",
      "    })\n",
      "    validation: Dataset({\n",
      "        features: ['text'],\n",
      "        num_rows: 21990\n",
      "    })\n",
      "})\n"
     ]
    }
   ],
   "source": [
    "print(dataset)"
   ]
  },
  {
   "cell_type": "code",
   "execution_count": 22,
   "metadata": {},
   "outputs": [],
   "source": [
    "def chunk_examples(examples):\n",
    "    window = 250\n",
    "    chunks = []\n",
    "    for sentence in examples[\"text\"]:\n",
    "        chunks += [sentence[i:i + window] for i in range(0, len(sentence), window)]\n",
    "    return {\"text\": chunks}"
   ]
  },
  {
   "cell_type": "code",
   "execution_count": 23,
   "metadata": {},
   "outputs": [
    {
     "data": {
      "application/vnd.jupyter.widget-view+json": {
       "model_id": "d54d4e0b0d214a359860b8a1e65edfcb",
       "version_major": 2,
       "version_minor": 0
      },
      "text/plain": [
       "Map (num_proc=5):   0%|          | 0/2119719 [00:00<?, ? examples/s]"
      ]
     },
     "metadata": {},
     "output_type": "display_data"
    }
   ],
   "source": [
    "train_dataset = dataset['train']\n",
    "updated_train_dataset = train_dataset.map(chunk_examples, batched=True,remove_columns=train_dataset.column_names, num_proc=5)"
   ]
  },
  {
   "cell_type": "code",
   "execution_count": 36,
   "metadata": {},
   "outputs": [],
   "source": [
    "# encoding = tiktoken.get_encoding(\"r50k_base\")\n",
    "tokenizer = AutoTokenizer.from_pretrained(\"EleutherAI/gpt-neo-125M\")"
   ]
  },
  {
   "cell_type": "code",
   "execution_count": 41,
   "metadata": {},
   "outputs": [],
   "source": [
    "def tokenization(example):\n",
    "    from transformers import AutoTokenizer\n",
    "    tokenizer = AutoTokenizer.from_pretrained(\"EleutherAI/gpt-neo-125M\")\n",
    "    tokenizer.pad_token = tokenizer.eos_token\n",
    "    return tokenizer(example['text'], padding='max_length', truncation=True)"
   ]
  },
  {
   "cell_type": "code",
   "execution_count": 42,
   "metadata": {},
   "outputs": [
    {
     "data": {
      "application/vnd.jupyter.widget-view+json": {
       "model_id": "c36e7adf90bb459abf1bf57c68406879",
       "version_major": 2,
       "version_minor": 0
      },
      "text/plain": [
       "Map (num_proc=5):   0%|          | 0/8647073 [00:00<?, ? examples/s]"
      ]
     },
     "metadata": {},
     "output_type": "display_data"
    }
   ],
   "source": [
    "# train_dataset = dataset['train']\n",
    "# tokenized_entries = train_dataset.map(tokenization, batched=True)\n",
    "# tokenized_entries = encoding.batch_encode_plus(train_dataset['text'], \n",
    "#                                                return_tensors=\"pt\")\n",
    "# tokenized_entries = encoding(train_dataset['text'], return_tensors=\"pt\")\n",
    "tokenized_entries = updated_train_dataset.map(tokenization, batched=True, num_proc=5)"
   ]
  },
  {
   "cell_type": "code",
   "execution_count": 45,
   "metadata": {},
   "outputs": [
    {
     "name": "stdout",
     "output_type": "stream",
     "text": [
      "Dataset({\n",
      "    features: ['text', 'input_ids', 'attention_mask'],\n",
      "    num_rows: 8647073\n",
      "})\n"
     ]
    }
   ],
   "source": [
    "print(tokenized_entries)"
   ]
  },
  {
   "cell_type": "code",
   "execution_count": 46,
   "metadata": {},
   "outputs": [
    {
     "data": {
      "application/vnd.jupyter.widget-view+json": {
       "model_id": "98536baf9f504857b6b733b4f6c7b525",
       "version_major": 2,
       "version_minor": 0
      },
      "text/plain": [
       "Saving the dataset (0/182 shards):   0%|          | 0/8647073 [00:00<?, ? examples/s]"
      ]
     },
     "metadata": {},
     "output_type": "display_data"
    }
   ],
   "source": [
    "tokenized_entries.save_to_disk(\"tokenized_train_dataset\")"
   ]
  },
  {
   "cell_type": "code",
   "execution_count": 70,
   "metadata": {},
   "outputs": [],
   "source": [
    "tokenized_train_dataset = datasets.load_from_disk('tokenized_train_dataset')"
   ]
  },
  {
   "cell_type": "code",
   "execution_count": 71,
   "metadata": {},
   "outputs": [],
   "source": [
    "# input_feature_dim = m\n",
    "# input_feature_dim = 50257\n",
    "input_feature_dim = tokenizer.vocab_size\n",
    "hidden_size = m*3\n",
    "# hidden_size = 2048"
   ]
  },
  {
   "cell_type": "code",
   "execution_count": 72,
   "metadata": {},
   "outputs": [],
   "source": [
    "# def tokenize(sequence):\n",
    "#     character_indices = []\n",
    "#     for i in sequence:\n",
    "#         char_index = unique_chars.index(i)\n",
    "#         character_indices.append(char_index)\n",
    "#     return character_indices\n"
   ]
  },
  {
   "cell_type": "code",
   "execution_count": 73,
   "metadata": {},
   "outputs": [],
   "source": [
    "tokenized_train_dataset = tokenized_train_dataset"
   ]
  },
  {
   "cell_type": "code",
   "execution_count": 74,
   "metadata": {},
   "outputs": [],
   "source": [
    "class TransformerModel(nn.Module):\n",
    "    def __init__(self, input_feature_dim, d_model, num_heads, num_layers):\n",
    "        super(TransformerModel, self).__init__()\n",
    "        self.embedding = nn.Embedding(input_feature_dim, d_model)\n",
    "        self.transformer = nn.TransformerEncoder(\n",
    "            nn.TransformerEncoderLayer(d_model=d_model, nhead=num_heads),\n",
    "            num_layers=num_layers\n",
    "        )\n",
    "        self.fc = nn.Linear(d_model, input_feature_dim)\n",
    "        self.pos_encoder = PositionalEncoding(d_model)\n",
    "\n",
    "    def generate_square_subsequent_mask(self, sz):\n",
    "        mask = (torch.triu(torch.ones(sz, sz)) == 1).transpose(0, 1)\n",
    "        mask = mask.float().masked_fill(mask == 0, float('-inf')).masked_fill(mask == 1, float(0.0))\n",
    "        return mask\n",
    "\n",
    "    def forward(self, x):\n",
    "        x = self.embedding(x)\n",
    "        x = self.pos_encoder(x)\n",
    "        mask = self.generate_square_subsequent_mask(len(x)).to(device)\n",
    "        x = self.transformer(x, mask)\n",
    "        x = self.fc(x)\n",
    "        return x\n",
    "    \n",
    "\n",
    "class PositionalEncoding(nn.Module):\n",
    "\n",
    "    def __init__(self, d_model: int, max_len: int = 5000):\n",
    "        super().__init__()\n",
    "\n",
    "        position = torch.arange(max_len).unsqueeze(1)\n",
    "        div_term = torch.exp(torch.arange(0, d_model, 2) * (-math.log(10000.0) / d_model))\n",
    "        pe = torch.zeros(max_len, 1, d_model)\n",
    "        pe[:, 0, 0::2] = torch.sin(position * div_term)\n",
    "        pe[:, 0, 1::2] = torch.cos(position * div_term)\n",
    "        self.register_buffer('pe', pe)\n",
    "\n",
    "    def forward(self, x: torch.Tensor) -> torch.Tensor:\n",
    "        \"\"\"\n",
    "        Arguments:\n",
    "            x: Tensor, shape ``[seq_len, batch_size, embedding_dim]``\n",
    "        \"\"\"\n",
    "        \n",
    "        x = x + (self.pe[:x.size(0)]).squeeze()\n",
    "        return x"
   ]
  },
  {
   "cell_type": "code",
   "execution_count": 75,
   "metadata": {},
   "outputs": [],
   "source": [
    "num_heads = 6\n",
    "num_layers = 4\n",
    "transformer_model = TransformerModel(input_feature_dim, hidden_size-(hidden_size%num_heads), num_heads=num_heads, num_layers=num_layers).to(device)\n",
    "# transformer_model = TransformerModel(input_feature_dim, int(input_feature_dim/2) - (int(input_feature_dim/2) % 4)).to(device)\n",
    "criterion = nn.CrossEntropyLoss()\n",
    "optimizer = optim.Adam(transformer_model.parameters(), lr = 0.0001)\n",
    "# scheduler = MultiStepLR(optimizer, milestones=[2500, 7000], gamma=0.1)\n",
    "scheduler = torch.optim.lr_scheduler.ExponentialLR(optimizer, gamma = 0.95)\n",
    "train_temperature = 1.0\n"
   ]
  },
  {
   "cell_type": "code",
   "execution_count": 76,
   "metadata": {},
   "outputs": [],
   "source": [
    "def softmax_with_temperature(logits, temperature):\n",
    "    return F.softmax(logits / temperature, dim=-1)"
   ]
  },
  {
   "cell_type": "code",
   "execution_count": 77,
   "metadata": {},
   "outputs": [
    {
     "name": "stdout",
     "output_type": "stream",
     "text": [
      "42689145\n"
     ]
    }
   ],
   "source": [
    "# print(summary(transformer_model, (1,m)))\n",
    "pytorch_total_params = sum(p.numel() for p in transformer_model.parameters())\n",
    "print(pytorch_total_params)\n"
   ]
  },
  {
   "cell_type": "code",
   "execution_count": 78,
   "metadata": {},
   "outputs": [],
   "source": [
    "# combined_string = dataset['train'][:]['text']\n",
    "\n",
    "# batch_size = 250\n",
    "# batches = [combined_string[i:i+batch_size][0] for i in range(0, len(combined_string), batch_size)]\n",
    "# if len(batches[-1]) != batch_size:\n",
    "#     batches.pop()\n",
    "\n",
    "# char_1 = 0\n",
    "# batches = batches\n",
    "# for i in batches:\n",
    "#     char_1 += len(i)\n",
    "# print(len(batches))\n",
    "# print(len(combined_string))\n",
    "# # print(batches[-1])\n",
    "# print(dataset['train'][-1])\n",
    "# print(combined_string[-1])\n",
    "# batches = dataset['train']\n",
    "# chars = 0\n",
    "# for i,batch in enumerate(batches):\n",
    "#     chars += len(batch['text'])\n",
    "# # print(i)\n",
    "# print(char_1)\n",
    "# print(chars)\n",
    "# num_sequences = 30000"
   ]
  },
  {
   "cell_type": "code",
   "execution_count": 79,
   "metadata": {},
   "outputs": [
    {
     "ename": "KeyboardInterrupt",
     "evalue": "",
     "output_type": "error",
     "traceback": [
      "\u001b[1;31m---------------------------------------------------------------------------\u001b[0m",
      "\u001b[1;31mKeyboardInterrupt\u001b[0m                         Traceback (most recent call last)",
      "\u001b[1;32m~\\AppData\\Local\\Temp\\ipykernel_39484\\3375400687.py\u001b[0m in \u001b[0;36m<module>\u001b[1;34m\u001b[0m\n\u001b[0;32m     22\u001b[0m         \u001b[1;31m# sequence = torch.tensor(tokens).long().to(device)\u001b[0m\u001b[1;33m\u001b[0m\u001b[1;33m\u001b[0m\u001b[0m\n\u001b[0;32m     23\u001b[0m         \u001b[0mlabels\u001b[0m \u001b[1;33m=\u001b[0m \u001b[0msequence\u001b[0m\u001b[1;33m[\u001b[0m\u001b[1;36m1\u001b[0m\u001b[1;33m:\u001b[0m\u001b[1;33m]\u001b[0m\u001b[1;33m\u001b[0m\u001b[1;33m\u001b[0m\u001b[0m\n\u001b[1;32m---> 24\u001b[1;33m         \u001b[0moutput\u001b[0m \u001b[1;33m=\u001b[0m \u001b[0mtransformer_model\u001b[0m\u001b[1;33m(\u001b[0m\u001b[0msequence\u001b[0m\u001b[1;33m[\u001b[0m\u001b[1;33m:\u001b[0m\u001b[1;33m-\u001b[0m\u001b[1;36m1\u001b[0m\u001b[1;33m]\u001b[0m\u001b[1;33m)\u001b[0m\u001b[1;33m\u001b[0m\u001b[1;33m\u001b[0m\u001b[0m\n\u001b[0m\u001b[0;32m     25\u001b[0m         \u001b[0mloss\u001b[0m \u001b[1;33m=\u001b[0m \u001b[0mcriterion\u001b[0m\u001b[1;33m(\u001b[0m\u001b[0moutput\u001b[0m\u001b[1;33m,\u001b[0m\u001b[0mlabels\u001b[0m\u001b[1;33m)\u001b[0m\u001b[1;33m\u001b[0m\u001b[1;33m\u001b[0m\u001b[0m\n\u001b[0;32m     26\u001b[0m         \u001b[1;31m# softmaxed_logits = softmax_with_temperature(output, train_temperature)\u001b[0m\u001b[1;33m\u001b[0m\u001b[1;33m\u001b[0m\u001b[0m\n",
      "\u001b[1;32mc:\\Users\\vjsam\\anaconda3\\lib\\site-packages\\torch\\nn\\modules\\module.py\u001b[0m in \u001b[0;36m_call_impl\u001b[1;34m(self, *args, **kwargs)\u001b[0m\n\u001b[0;32m   1499\u001b[0m                 \u001b[1;32mor\u001b[0m \u001b[0m_global_backward_pre_hooks\u001b[0m \u001b[1;32mor\u001b[0m \u001b[0m_global_backward_hooks\u001b[0m\u001b[1;33m\u001b[0m\u001b[1;33m\u001b[0m\u001b[0m\n\u001b[0;32m   1500\u001b[0m                 or _global_forward_hooks or _global_forward_pre_hooks):\n\u001b[1;32m-> 1501\u001b[1;33m             \u001b[1;32mreturn\u001b[0m \u001b[0mforward_call\u001b[0m\u001b[1;33m(\u001b[0m\u001b[1;33m*\u001b[0m\u001b[0margs\u001b[0m\u001b[1;33m,\u001b[0m \u001b[1;33m**\u001b[0m\u001b[0mkwargs\u001b[0m\u001b[1;33m)\u001b[0m\u001b[1;33m\u001b[0m\u001b[1;33m\u001b[0m\u001b[0m\n\u001b[0m\u001b[0;32m   1502\u001b[0m         \u001b[1;31m# Do not call functions when jit is used\u001b[0m\u001b[1;33m\u001b[0m\u001b[1;33m\u001b[0m\u001b[0m\n\u001b[0;32m   1503\u001b[0m         \u001b[0mfull_backward_hooks\u001b[0m\u001b[1;33m,\u001b[0m \u001b[0mnon_full_backward_hooks\u001b[0m \u001b[1;33m=\u001b[0m \u001b[1;33m[\u001b[0m\u001b[1;33m]\u001b[0m\u001b[1;33m,\u001b[0m \u001b[1;33m[\u001b[0m\u001b[1;33m]\u001b[0m\u001b[1;33m\u001b[0m\u001b[1;33m\u001b[0m\u001b[0m\n",
      "\u001b[1;32m~\\AppData\\Local\\Temp\\ipykernel_39484\\3311719802.py\u001b[0m in \u001b[0;36mforward\u001b[1;34m(self, x)\u001b[0m\n\u001b[0;32m     18\u001b[0m         \u001b[0mx\u001b[0m \u001b[1;33m=\u001b[0m \u001b[0mself\u001b[0m\u001b[1;33m.\u001b[0m\u001b[0membedding\u001b[0m\u001b[1;33m(\u001b[0m\u001b[0mx\u001b[0m\u001b[1;33m)\u001b[0m\u001b[1;33m\u001b[0m\u001b[1;33m\u001b[0m\u001b[0m\n\u001b[0;32m     19\u001b[0m         \u001b[0mx\u001b[0m \u001b[1;33m=\u001b[0m \u001b[0mself\u001b[0m\u001b[1;33m.\u001b[0m\u001b[0mpos_encoder\u001b[0m\u001b[1;33m(\u001b[0m\u001b[0mx\u001b[0m\u001b[1;33m)\u001b[0m\u001b[1;33m\u001b[0m\u001b[1;33m\u001b[0m\u001b[0m\n\u001b[1;32m---> 20\u001b[1;33m         \u001b[0mmask\u001b[0m \u001b[1;33m=\u001b[0m \u001b[0mself\u001b[0m\u001b[1;33m.\u001b[0m\u001b[0mgenerate_square_subsequent_mask\u001b[0m\u001b[1;33m(\u001b[0m\u001b[0mlen\u001b[0m\u001b[1;33m(\u001b[0m\u001b[0mx\u001b[0m\u001b[1;33m)\u001b[0m\u001b[1;33m)\u001b[0m\u001b[1;33m.\u001b[0m\u001b[0mto\u001b[0m\u001b[1;33m(\u001b[0m\u001b[0mdevice\u001b[0m\u001b[1;33m)\u001b[0m\u001b[1;33m\u001b[0m\u001b[1;33m\u001b[0m\u001b[0m\n\u001b[0m\u001b[0;32m     21\u001b[0m         \u001b[0mx\u001b[0m \u001b[1;33m=\u001b[0m \u001b[0mself\u001b[0m\u001b[1;33m.\u001b[0m\u001b[0mtransformer\u001b[0m\u001b[1;33m(\u001b[0m\u001b[0mx\u001b[0m\u001b[1;33m,\u001b[0m \u001b[0mmask\u001b[0m\u001b[1;33m)\u001b[0m\u001b[1;33m\u001b[0m\u001b[1;33m\u001b[0m\u001b[0m\n\u001b[0;32m     22\u001b[0m         \u001b[0mx\u001b[0m \u001b[1;33m=\u001b[0m \u001b[0mself\u001b[0m\u001b[1;33m.\u001b[0m\u001b[0mfc\u001b[0m\u001b[1;33m(\u001b[0m\u001b[0mx\u001b[0m\u001b[1;33m)\u001b[0m\u001b[1;33m\u001b[0m\u001b[1;33m\u001b[0m\u001b[0m\n",
      "\u001b[1;32m~\\AppData\\Local\\Temp\\ipykernel_39484\\3311719802.py\u001b[0m in \u001b[0;36mgenerate_square_subsequent_mask\u001b[1;34m(self, sz)\u001b[0m\n\u001b[0;32m     12\u001b[0m     \u001b[1;32mdef\u001b[0m \u001b[0mgenerate_square_subsequent_mask\u001b[0m\u001b[1;33m(\u001b[0m\u001b[0mself\u001b[0m\u001b[1;33m,\u001b[0m \u001b[0msz\u001b[0m\u001b[1;33m)\u001b[0m\u001b[1;33m:\u001b[0m\u001b[1;33m\u001b[0m\u001b[1;33m\u001b[0m\u001b[0m\n\u001b[0;32m     13\u001b[0m         \u001b[0mmask\u001b[0m \u001b[1;33m=\u001b[0m \u001b[1;33m(\u001b[0m\u001b[0mtorch\u001b[0m\u001b[1;33m.\u001b[0m\u001b[0mtriu\u001b[0m\u001b[1;33m(\u001b[0m\u001b[0mtorch\u001b[0m\u001b[1;33m.\u001b[0m\u001b[0mones\u001b[0m\u001b[1;33m(\u001b[0m\u001b[0msz\u001b[0m\u001b[1;33m,\u001b[0m \u001b[0msz\u001b[0m\u001b[1;33m)\u001b[0m\u001b[1;33m)\u001b[0m \u001b[1;33m==\u001b[0m \u001b[1;36m1\u001b[0m\u001b[1;33m)\u001b[0m\u001b[1;33m.\u001b[0m\u001b[0mtranspose\u001b[0m\u001b[1;33m(\u001b[0m\u001b[1;36m0\u001b[0m\u001b[1;33m,\u001b[0m \u001b[1;36m1\u001b[0m\u001b[1;33m)\u001b[0m\u001b[1;33m\u001b[0m\u001b[1;33m\u001b[0m\u001b[0m\n\u001b[1;32m---> 14\u001b[1;33m         \u001b[0mmask\u001b[0m \u001b[1;33m=\u001b[0m \u001b[0mmask\u001b[0m\u001b[1;33m.\u001b[0m\u001b[0mfloat\u001b[0m\u001b[1;33m(\u001b[0m\u001b[1;33m)\u001b[0m\u001b[1;33m.\u001b[0m\u001b[0mmasked_fill\u001b[0m\u001b[1;33m(\u001b[0m\u001b[0mmask\u001b[0m \u001b[1;33m==\u001b[0m \u001b[1;36m0\u001b[0m\u001b[1;33m,\u001b[0m \u001b[0mfloat\u001b[0m\u001b[1;33m(\u001b[0m\u001b[1;34m'-inf'\u001b[0m\u001b[1;33m)\u001b[0m\u001b[1;33m)\u001b[0m\u001b[1;33m.\u001b[0m\u001b[0mmasked_fill\u001b[0m\u001b[1;33m(\u001b[0m\u001b[0mmask\u001b[0m \u001b[1;33m==\u001b[0m \u001b[1;36m1\u001b[0m\u001b[1;33m,\u001b[0m \u001b[0mfloat\u001b[0m\u001b[1;33m(\u001b[0m\u001b[1;36m0.0\u001b[0m\u001b[1;33m)\u001b[0m\u001b[1;33m)\u001b[0m\u001b[1;33m\u001b[0m\u001b[1;33m\u001b[0m\u001b[0m\n\u001b[0m\u001b[0;32m     15\u001b[0m         \u001b[1;32mreturn\u001b[0m \u001b[0mmask\u001b[0m\u001b[1;33m\u001b[0m\u001b[1;33m\u001b[0m\u001b[0m\n\u001b[0;32m     16\u001b[0m \u001b[1;33m\u001b[0m\u001b[0m\n",
      "\u001b[1;31mKeyboardInterrupt\u001b[0m: "
     ]
    }
   ],
   "source": [
    "num_epochs = 1\n",
    "training_loss_values = []\n",
    "training_error_values = []\n",
    "validation_loss_values = []\n",
    "validation_error_values = []\n",
    "x_vals = []\n",
    "x_val = 1\n",
    "validation_x_vals = []\n",
    "num_validation_seq = 5\n",
    "\n",
    "for epoch in range(num_epochs):\n",
    "\n",
    "    loss_accumulator = 0\n",
    "    error_accumulator = 0\n",
    "    \n",
    "    for i,input in enumerate(tokenized_train_dataset):\n",
    "    # for i, input in enumerate(batches):\n",
    "        # input = input['text']\n",
    "        sequence = torch.tensor(input['input_ids']).to(device)\n",
    "        transformer_model.train()\n",
    "        # tokens = encoding.encode(input)\n",
    "        # sequence = torch.tensor(tokens).long().to(device)\n",
    "        labels = sequence[1:]\n",
    "        output = transformer_model(sequence[:-1])\n",
    "        loss = criterion(output,labels)\n",
    "        # softmaxed_logits = softmax_with_temperature(output, train_temperature)\n",
    "        # loss = nn.NLLLoss()(torch.log(softmaxed_logits), labels)\n",
    "        optimizer.zero_grad()\n",
    "        loss.backward()\n",
    "        # torch.nn.utils.clip_grad_norm_(rnn.parameters(), 15.0)\n",
    "        loss_accumulator += loss.item()\n",
    "        optimizer.step()\n",
    "        # training_loss_values.append(loss.item())\n",
    "        \n",
    "        predicted_labels = torch.argmax(output,dim=1)\n",
    "        training_error = 1.0 - (labels == predicted_labels).sum()/(len(sequence)-1)\n",
    "        # training_error_values.append(training_error.item())\n",
    "        error_accumulator += training_error.item()\n",
    "\n",
    "        # x_vals.append(x_val)\n",
    "\n",
    "        if x_val % 50 == 0:  # If 50 iterations have passed\n",
    "            avg_loss = loss_accumulator / 50.0\n",
    "            avg_error = error_accumulator / 50.0\n",
    "            training_loss_values.append(avg_loss)\n",
    "            training_error_values.append(avg_error)\n",
    "            x_vals.append(x_val)\n",
    "            # Reset the accumulators\n",
    "            loss_accumulator = 0\n",
    "            error_accumulator = 0\n",
    "\n",
    "        if (x_val % 1000) == 0:\n",
    "            transformer_model.eval()\n",
    "            print('Iteration: {}/{}'.format(x_val, len(tokenized_train_dataset)))\n",
    "\n",
    "            test_loss_accumulator = 0\n",
    "            test_error_accumulator = 0\n",
    "            \n",
    "            # Validation\n",
    "            for j in range(num_validation_seq):\n",
    "                future_sequence = torch.tensor(tokenized_train_dataset[i+j+1]['input_ids']).to(device)\n",
    "                # future_tokens = encoding.encode(future_input)\n",
    "                # future_sequence = torch.tensor(future_tokens).long().to(device)\n",
    "                future_output = transformer_model(future_sequence[:-1])\n",
    "                future_labels = future_sequence[1:]\n",
    "                future_loss = criterion(future_output, future_labels)\n",
    "                # future_softmaxed_logits = softmax_with_temperature(future_output, train_temperature)\n",
    "                # future_loss = nn.NLLLoss()(torch.log(future_softmaxed_logits), future_labels)\n",
    "                # validation_loss_values.append(future_loss.item())\n",
    "                test_loss_accumulator += future_loss.item()\n",
    "                future_predicted_labels = torch.argmax(future_output, dim=1)\n",
    "                validation_error = (1.0 - (future_labels == future_predicted_labels).sum() / (len(future_sequence) - 1)).item()\n",
    "                # validation_error_values.append(validation_error.item())\n",
    "                test_error_accumulator += validation_error\n",
    "            validation_loss_values.append((test_loss_accumulator/num_validation_seq))\n",
    "            validation_error_values.append((test_error_accumulator/num_validation_seq))\n",
    "            validation_x_vals.append(x_val)\n",
    "        \n",
    "        if x_val==10000:\n",
    "            break\n",
    "            \n",
    "        x_val +=1\n",
    "        # scheduler.step()"
   ]
  },
  {
   "cell_type": "code",
   "execution_count": null,
   "metadata": {},
   "outputs": [
    {
     "data": {
      "image/png": "[encoded data removed]",
      "text/plain": [
       "<Figure size 640x480 with 1 Axes>"
      ]
     },
     "metadata": {},
     "output_type": "display_data"
    },
    {
     "data": {
      "image/png": "[encoded data removed]",
      "text/plain": [
       "<Figure size 640x480 with 1 Axes>"
      ]
     },
     "metadata": {},
     "output_type": "display_data"
    },
    {
     "data": {
      "image/png": "[encoded data removed]",
      "text/plain": [
       "<Figure size 640x480 with 1 Axes>"
      ]
     },
     "metadata": {},
     "output_type": "display_data"
    },
    {
     "data": {
      "image/png": "[encoded data removed]",
      "text/plain": [
       "<Figure size 640x480 with 1 Axes>"
      ]
     },
     "metadata": {},
     "output_type": "display_data"
    }
   ],
   "source": [
    "# output,_ = rnn(input[40].to(device))\n",
    "# output = [unique_chars[i] for i in torch.argmax(output, dim=1).tolist()]\n",
    "# output = torch.tensor(unique_chars)\n",
    "# [torch.argmax(output, dim=1)]\n",
    "# print(batches[40])\n",
    "# # print((output))\n",
    "# # print(output)\n",
    "# print(error)\n",
    "# print(current_labels)\n",
    "# print(torch.argmax(output,dim=1))\n",
    "# test = [1,2,3,4,5]\n",
    "\n",
    "# training_error_values = [i.cpu().item() for i in training_error_values]\n",
    "# validation_error_values = [i.cpu().item() for i in validation_error_values]\n",
    "# validation_loss_values = [i.cpu().item() for i in validation_loss_values]\n",
    "\n",
    "\n",
    "plt.figure()\n",
    "plt.plot(x_vals,training_loss_values)\n",
    "plt.xlabel('Weight Update Iteration')\n",
    "plt.ylabel('Loss Value')\n",
    "plt.title('Training Loss')\n",
    "plt.figure()\n",
    "plt.plot(x_vals, training_error_values)\n",
    "plt.xlabel('Weight Update Iteration')\n",
    "plt.ylabel('Error')\n",
    "plt.title('Training Error')\n",
    "plt.figure()\n",
    "plt.plot(validation_x_vals, validation_loss_values)\n",
    "plt.xlabel('Weight Update Iteration')\n",
    "plt.ylabel('Loss Value')\n",
    "plt.title('Validation Loss')\n",
    "plt.figure()\n",
    "plt.plot(validation_x_vals, validation_error_values)\n",
    "plt.xlabel('Weight Update Iteration')\n",
    "plt.ylabel('Error')\n",
    "plt.title('Validation Error')\n",
    "plt.show()"
   ]
  },
  {
   "cell_type": "code",
   "execution_count": null,
   "metadata": {},
   "outputs": [
    {
     "ename": "NameError",
     "evalue": "name 'encoding' is not defined",
     "output_type": "error",
     "traceback": [
      "\u001b[1;31m---------------------------------------------------------------------------\u001b[0m",
      "\u001b[1;31mNameError\u001b[0m                                 Traceback (most recent call last)",
      "\u001b[1;32m~\\AppData\\Local\\Temp\\ipykernel_39484\\3935003675.py\u001b[0m in \u001b[0;36m<module>\u001b[1;34m\u001b[0m\n\u001b[0;32m      6\u001b[0m \u001b[1;32mfor\u001b[0m \u001b[0mi\u001b[0m \u001b[1;32min\u001b[0m \u001b[0mrange\u001b[0m\u001b[1;33m(\u001b[0m\u001b[1;36m5\u001b[0m\u001b[1;33m)\u001b[0m\u001b[1;33m:\u001b[0m\u001b[1;33m\u001b[0m\u001b[1;33m\u001b[0m\u001b[0m\n\u001b[0;32m      7\u001b[0m     \u001b[0msentence\u001b[0m \u001b[1;33m=\u001b[0m \u001b[0minitialize\u001b[0m\u001b[1;33m[\u001b[0m\u001b[0mi\u001b[0m\u001b[1;33m]\u001b[0m\u001b[1;33m\u001b[0m\u001b[1;33m\u001b[0m\u001b[0m\n\u001b[1;32m----> 8\u001b[1;33m     \u001b[0mtokenized_sentence\u001b[0m \u001b[1;33m=\u001b[0m \u001b[0mencoding\u001b[0m\u001b[1;33m.\u001b[0m\u001b[0mencode\u001b[0m\u001b[1;33m(\u001b[0m\u001b[0msentence\u001b[0m\u001b[1;33m)\u001b[0m\u001b[1;33m\u001b[0m\u001b[1;33m\u001b[0m\u001b[0m\n\u001b[0m\u001b[0;32m      9\u001b[0m     \u001b[0mnext_char\u001b[0m \u001b[1;33m=\u001b[0m \u001b[0mtorch\u001b[0m\u001b[1;33m.\u001b[0m\u001b[0mtensor\u001b[0m\u001b[1;33m(\u001b[0m\u001b[0mtokenized_sentence\u001b[0m\u001b[1;33m)\u001b[0m\u001b[1;33m.\u001b[0m\u001b[0mlong\u001b[0m\u001b[1;33m(\u001b[0m\u001b[1;33m)\u001b[0m\u001b[1;33m.\u001b[0m\u001b[0mto\u001b[0m\u001b[1;33m(\u001b[0m\u001b[0mdevice\u001b[0m\u001b[1;33m)\u001b[0m\u001b[1;33m\u001b[0m\u001b[1;33m\u001b[0m\u001b[0m\n\u001b[0;32m     10\u001b[0m     \u001b[1;32mfor\u001b[0m \u001b[0mj\u001b[0m \u001b[1;32min\u001b[0m \u001b[0mrange\u001b[0m\u001b[1;33m(\u001b[0m\u001b[1;36m250\u001b[0m\u001b[1;33m-\u001b[0m\u001b[1;36m16\u001b[0m\u001b[1;33m)\u001b[0m\u001b[1;33m:\u001b[0m\u001b[1;33m\u001b[0m\u001b[1;33m\u001b[0m\u001b[0m\n",
      "\u001b[1;31mNameError\u001b[0m: name 'encoding' is not defined"
     ]
    }
   ],
   "source": [
    "test_temperature = 0.5\n",
    "transformer_model.eval()\n",
    "capital_letters = [chr(i) for i in range(65, 91)]\n",
    "example_sentences = []\n",
    "initialize = [\"A silent whisper\", \"Over the horizon\", \"Beneath the star\", \"Waves crashed on\", \"In the deep void\"]\n",
    "for i in range(5):\n",
    "    sentence = initialize[i]\n",
    "    tokenized_sentence = encoding.encode(sentence)\n",
    "    next_char = torch.tensor(tokenized_sentence).long().to(device)\n",
    "    for j in range(250-16):\n",
    "        next_char = transformer_model(next_char)\n",
    "        next_softmax = softmax_with_temperature(next_char, test_temperature)\n",
    "        # predicted_char = torch.argmax(next_softmax,dim=1)\n",
    "        predicted_char = torch.multinomial(next_softmax,1)\n",
    "        # letter = unique_chars[predicted_char[-1]]\n",
    "        letter = encoding.decode([predicted_char[-1].item()])\n",
    "        sentence += letter\n",
    "        # next_char = torch.tensor(tokenize(sentence)).long().to(device)\n",
    "        next_tokenized_sentence = encoding.encode(sentence)\n",
    "        next_char = torch.tensor(next_tokenized_sentence).long().to(device)\n",
    "    example_sentences.append(sentence)\n",
    "example_sentences = np.array(example_sentences)\n",
    "print(example_sentences[0])\n",
    "print(example_sentences[1])\n",
    "print(example_sentences[2])\n",
    "print(example_sentences[3])\n",
    "print(example_sentences[4])"
   ]
  }
 ],
 "metadata": {
  "kernelspec": {
   "display_name": "base",
   "language": "python",
   "name": "python3"
  },
  "language_info": {
   "codemirror_mode": {
    "name": "ipython",
    "version": 3
   },
   "file_extension": ".py",
   "mimetype": "text/x-python",
   "name": "python",
   "nbconvert_exporter": "python",
   "pygments_lexer": "ipython3",
   "version": "3.9.13"
  },
  "orig_nbformat": 4
 },
 "nbformat": 4,
 "nbformat_minor": 2
}
