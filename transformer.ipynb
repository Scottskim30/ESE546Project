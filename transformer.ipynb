{
 "cells": [
  {
   "cell_type": "code",
   "execution_count": 1,
   "metadata": {},
   "outputs": [],
   "source": [
    "import torch\n",
    "import torchvision\n",
    "import torch.nn as nn\n",
    "import torchvision.transforms as transforms\n",
    "import torch.optim as optim\n",
    "import matplotlib.pyplot as plt\n",
    "from torch.optim.lr_scheduler import MultiStepLR\n",
    "import numpy as np\n",
    "import random\n",
    "import torch.nn.utils\n",
    "import textwrap\n",
    "import re\n",
    "from torch.nn import TransformerEncoder, TransformerEncoderLayer\n",
    "import math\n",
    "from torchsummary import summary\n",
    "import torch.nn.functional as F\n",
    "import tiktoken\n",
    "from transformers import AutoTokenizer\n",
    "from datasets import load_dataset\n",
    "import math\n",
    "import datasets\n",
    "from transformers import DataCollatorWithPadding\n",
    "from torch.utils.data import DataLoader\n",
    "from torch.profiler import profile, record_function, ProfilerActivity"
   ]
  },
  {
   "cell_type": "code",
   "execution_count": 2,
   "metadata": {},
   "outputs": [],
   "source": [
    "torch.cuda.empty_cache()"
   ]
  },
  {
   "cell_type": "code",
   "execution_count": 3,
   "metadata": {},
   "outputs": [
    {
     "name": "stdout",
     "output_type": "stream",
     "text": [
      "False\n"
     ]
    }
   ],
   "source": [
    "import os\n",
    "\n",
    "tokenized_dataset_path = os.getcwd() + '/tokenized_train_dataset'\n",
    "\n",
    "print(os.path.isdir(tokenized_dataset_path))\n",
    "\n",
    "def tokenization(example):\n",
    "    from transformers import AutoTokenizer\n",
    "    # tokenizer = AutoTokenizer.from_pretrained(\"EleutherAI/gpt-neo-125M\")\n",
    "    tokenizer = AutoTokenizer.from_pretrained(\"mistralai/Mistral-7B-v0.1\")\n",
    "    # tokenizer.pad_token = tokenizer.eos_token\n",
    "    tokenizer.pad_token = tokenizer.eos_token\n",
    "    return tokenizer(example['text'], truncation=True)\n",
    "\n",
    "def chunk_examples(examples):\n",
    "    window = 250\n",
    "    chunks = []\n",
    "    for sentence in examples[\"text\"]:\n",
    "        chunks += [sentence[i:i + window] for i in range(0, len(sentence), window)]\n",
    "    return {\"text\": chunks}\n",
    "\n",
    "def generate_tokenized_dataset(train: bool=True) -> DataLoader:\n",
    "    # tokenizer = AutoTokenizer.from_pretrained(\"EleutherAI/gpt-neo-125M\")\n",
    "    tokenizer = AutoTokenizer.from_pretrained(\"mistralai/Mistral-7B-v0.1\")\n",
    "    tokenizer.pad_token = tokenizer.eos_token\n",
    "    if train:\n",
    "        dataset_type = \"train\"\n",
    "        tokenized_dataset_folder = 'tokenized_train_dataset'\n",
    "        tokenized_dataset_path = os.getcwd() + '/' + tokenized_dataset_folder\n",
    "    else:\n",
    "        dataset_type = \"test\"\n",
    "        tokenized_dataset_folder = 'tokenized_validation_dataset'\n",
    "        tokenized_dataset_path = os.getcwd() + '/tokenized_validation_dataset'\n",
    "    \n",
    "    if os.path.isdir(tokenized_dataset_path):\n",
    "        tokenized_entries = datasets.load_from_disk(tokenized_dataset_folder)\n",
    "       \n",
    "    else:\n",
    "        dataset = load_dataset(\"roneneldan/TinyStories\")\n",
    "        dataset = dataset[dataset_type]\n",
    "        updated_dataset = dataset#.map(chunk_examples, batched=True, remove_columns=dataset.column_names, num_proc=5)\n",
    "        tokenized_entries = updated_dataset.map(tokenization, batched=True, num_proc=8)\n",
    "        tokenized_entries.save_to_disk(tokenized_dataset_folder)\n",
    "       \n",
    "        \n",
    "    \n",
    "    tokenized_entries = tokenized_entries.remove_columns([\"text\"])\n",
    "    data_collator = DataCollatorWithPadding(tokenizer=tokenizer, return_tensors=\"pt\")\n",
    "    data_loader = DataLoader(tokenized_entries, batch_size=4, shuffle=True, collate_fn=data_collator)\n",
    "    return data_loader"
   ]
  },
  {
   "cell_type": "code",
   "execution_count": 4,
   "metadata": {},
   "outputs": [
    {
     "data": {
      "application/vnd.jupyter.widget-view+json": {
       "model_id": "ea7c4a886b5541a48d442f246e29a4ba",
       "version_major": 2,
       "version_minor": 0
      },
      "text/plain": [
       "tokenizer_config.json:   0%|          | 0.00/966 [00:00<?, ?B/s]"
      ]
     },
     "metadata": {},
     "output_type": "display_data"
    },
    {
     "name": "stderr",
     "output_type": "stream",
     "text": [
      "c:\\Users\\vjsam\\anaconda3\\lib\\site-packages\\huggingface_hub\\file_download.py:147: UserWarning: `huggingface_hub` cache-system uses symlinks by default to efficiently store duplicated files but your machine does not support them in C:\\Users\\vjsam\\.cache\\huggingface\\hub. Caching files will still work but in a degraded version that might require more space on your disk. This warning can be disabled by setting the `HF_HUB_DISABLE_SYMLINKS_WARNING` environment variable. For more details, see https://huggingface.co/docs/huggingface_hub/how-to-cache#limitations.\n",
      "To support symlinks on Windows, you either need to activate Developer Mode or to run Python as an administrator. In order to see activate developer mode, see this article: https://docs.microsoft.com/en-us/windows/apps/get-started/enable-your-device-for-development\n",
      "  warnings.warn(message)\n"
     ]
    },
    {
     "data": {
      "application/vnd.jupyter.widget-view+json": {
       "model_id": "2538959a8a3b4ee0a5ed28a305203113",
       "version_major": 2,
       "version_minor": 0
      },
      "text/plain": [
       "tokenizer.model:   0%|          | 0.00/493k [00:00<?, ?B/s]"
      ]
     },
     "metadata": {},
     "output_type": "display_data"
    },
    {
     "data": {
      "application/vnd.jupyter.widget-view+json": {
       "model_id": "3888f0a6e7ea4250933da9d98cb53171",
       "version_major": 2,
       "version_minor": 0
      },
      "text/plain": [
       "tokenizer.json:   0%|          | 0.00/1.80M [00:00<?, ?B/s]"
      ]
     },
     "metadata": {},
     "output_type": "display_data"
    },
    {
     "data": {
      "application/vnd.jupyter.widget-view+json": {
       "model_id": "01fad36db41e4895ba968ec3b96eb7e9",
       "version_major": 2,
       "version_minor": 0
      },
      "text/plain": [
       "special_tokens_map.json:   0%|          | 0.00/72.0 [00:00<?, ?B/s]"
      ]
     },
     "metadata": {},
     "output_type": "display_data"
    },
    {
     "name": "stderr",
     "output_type": "stream",
     "text": [
      "c:\\Users\\vjsam\\anaconda3\\lib\\site-packages\\huggingface_hub\\repocard.py:105: UserWarning: Repo card metadata block was not found. Setting CardData to empty.\n",
      "  warnings.warn(\"Repo card metadata block was not found. Setting CardData to empty.\")\n"
     ]
    },
    {
     "data": {
      "application/vnd.jupyter.widget-view+json": {
       "model_id": "df50718c6935473eaafeb52fe1290d2d",
       "version_major": 2,
       "version_minor": 0
      },
      "text/plain": [
       "Map (num_proc=8):   0%|          | 0/2119719 [00:00<?, ? examples/s]"
      ]
     },
     "metadata": {},
     "output_type": "display_data"
    },
    {
     "data": {
      "application/vnd.jupyter.widget-view+json": {
       "model_id": "45035633eeb64d5d927a26d07fda15e9",
       "version_major": 2,
       "version_minor": 0
      },
      "text/plain": [
       "Saving the dataset (0/9 shards):   0%|          | 0/2119719 [00:00<?, ? examples/s]"
      ]
     },
     "metadata": {},
     "output_type": "display_data"
    }
   ],
   "source": [
    "from transformers import AutoTokenizer\n",
    "# tokenizer = AutoTokenizer.from_pretrained(\"EleutherAI/gpt-neo-125M\")\n",
    "tokenizer = AutoTokenizer.from_pretrained(\"mistralai/Mistral-7B-v0.1\")\n",
    "# tokenizer.pad_token = tokenizer.eos_token\n",
    "\n",
    "train_loader = generate_tokenized_dataset(True)"
   ]
  },
  {
   "cell_type": "code",
   "execution_count": 27,
   "metadata": {},
   "outputs": [
    {
     "name": "stdout",
     "output_type": "stream",
     "text": [
      "None\n"
     ]
    }
   ],
   "source": [
    "print(tokenizer.pad_token)"
   ]
  },
  {
   "cell_type": "code",
   "execution_count": 5,
   "metadata": {},
   "outputs": [
    {
     "name": "stdout",
     "output_type": "stream",
     "text": [
      "32000\n"
     ]
    }
   ],
   "source": [
    "print(tokenizer.vocab_size)"
   ]
  },
  {
   "cell_type": "code",
   "execution_count": 6,
   "metadata": {},
   "outputs": [],
   "source": [
    "device = torch.device('cuda' if torch.cuda.is_available() else 'cpu')\n",
    "\n",
    "# file_paths = ['gutenberg_shakespeare.txt', 'gutenberg_war_and_peace.txt', 'gutenberg_don_quixote.txt', 'gutenberg_brothers_karamazov.txt']\n",
    "# # file_paths = ['gutenberg_war_and_peace.txt']\n",
    "# # Initialize an empty string to hold the combined content\n",
    "# combined_string = ''\n",
    "\n",
    "# # # Loop through each file path, open the file, read its content, and append it to the combined_string\n",
    "# # for file_path in file_paths:\n",
    "# #     file = open(file_path, 'r', encoding='utf-8-sig')\n",
    "# #     combined_string += file.read().strip()\n",
    "# #     file.close()  # Close the file after reading its content\n",
    "\n",
    "# for file_path in file_paths:\n",
    "#     with open(file_path, 'r', encoding='utf-8-sig') as file:\n",
    "#         # Read file content, split by lines, strip each line and then join them back\n",
    "#         content = file.read().splitlines()[30:-18500]\n",
    "#         stripped_content = \" \".join([line.strip() for line in content if line.strip()])  # Strip leading/trailing whitespace and remove empty lines\n",
    "#         combined_string += stripped_content\n",
    "\n",
    "\n",
    "# # combined_string = re.sub(r'\\n\\s*\\n', '\\n', combined_string)\n",
    "# #combined_string = re.sub(r\"[\\n\\t]*\", \"\", combined_string)\n",
    "\n",
    "# unique_chars = list(set(combined_string))\n",
    "# # print(unique_chars)\n",
    "# m = len(unique_chars)\n",
    "# print(m)\n",
    "\n",
    "# dataset = load_dataset(\"roneneldan/TinyStories\")"
   ]
  },
  {
   "cell_type": "code",
   "execution_count": 33,
   "metadata": {},
   "outputs": [],
   "source": [
    "# def chunk_examples(examples):\n",
    "#     window = 500\n",
    "#     chunks = []\n",
    "#     for sentence in examples[\"text\"]:\n",
    "#         chunks += [sentence[i:i + window] for i in range(0, len(sentence), window)]\n",
    "#     return {\"text\": chunks}"
   ]
  },
  {
   "cell_type": "code",
   "execution_count": 34,
   "metadata": {},
   "outputs": [],
   "source": [
    "# train_dataset = dataset['train']\n",
    "# updated_train_dataset = train_dataset.map(chunk_examples, batched=True,remove_columns=train_dataset.column_names, num_proc=5)"
   ]
  },
  {
   "cell_type": "code",
   "execution_count": 35,
   "metadata": {},
   "outputs": [],
   "source": [
    "# encoding = tiktoken.get_encoding(\"r50k_base\")\n",
    "# tokenizer = AutoTokenizer.from_pretrained(\"EleutherAI/gpt-neo-125M\")"
   ]
  },
  {
   "cell_type": "code",
   "execution_count": 36,
   "metadata": {},
   "outputs": [],
   "source": [
    "# tokenizer = AutoTokenizer.from_pretrained(\"EleutherAI/gpt-neo-125M\")\n",
    "# tokenizer.pad_token = tokenizer.eos_token\n",
    "# def tokenization(example):\n",
    "#     from transformers import AutoTokenizer\n",
    "#     tokenizer = AutoTokenizer.from_pretrained(\"EleutherAI/gpt-neo-125M\")\n",
    "#     tokenizer.pad_token = tokenizer.eos_token\n",
    "#     return tokenizer(example['text'], truncation=True)"
   ]
  },
  {
   "cell_type": "code",
   "execution_count": 37,
   "metadata": {},
   "outputs": [],
   "source": [
    "# # train_dataset = dataset['train']\n",
    "# # tokenized_entries = train_dataset.map(tokenization, batched=True)\n",
    "# # tokenized_entries = encoding.batch_encode_plus(train_dataset['text'], \n",
    "# #                                                return_tensors=\"pt\")\n",
    "# # tokenized_entries = encoding(train_dataset['text'], return_tensors=\"pt\")\n",
    "# tokenized_entries = updated_train_dataset.map(tokenization, batched=True, num_proc=7)\n",
    "# tokenized_entries.save_to_disk(\"tokenized_train_dataset\")"
   ]
  },
  {
   "cell_type": "code",
   "execution_count": 38,
   "metadata": {},
   "outputs": [],
   "source": [
    "# tokenized_entries = datasets.load_from_disk('tokenized_train_dataset')\n",
    "# tokenized_entries = tokenized_entries.remove_columns([\"text\"])\n",
    "# # print(tokenized_entries)"
   ]
  },
  {
   "cell_type": "code",
   "execution_count": 39,
   "metadata": {},
   "outputs": [],
   "source": [
    "# data_collator = DataCollatorWithPadding(tokenizer=tokenizer, return_tensors=\"pt\")\n",
    "# train_loader = DataLoader(tokenized_entries, batch_size=int(32/2), shuffle=True, collate_fn=data_collator)"
   ]
  },
  {
   "cell_type": "code",
   "execution_count": 7,
   "metadata": {},
   "outputs": [],
   "source": [
    "# input_feature_dim = m\n",
    "# input_feature_dim = 50257\n",
    "input_feature_dim = tokenizer.vocab_size\n",
    "hidden_size = 256\n",
    "# hidden_size = 2048"
   ]
  },
  {
   "cell_type": "code",
   "execution_count": 8,
   "metadata": {},
   "outputs": [],
   "source": [
    "class TransformerModel(nn.Module):\n",
    "    def __init__(self, input_feature_dim, d_model, num_heads, num_layers):\n",
    "        super(TransformerModel, self).__init__()\n",
    "        self.embedding = nn.Embedding(input_feature_dim, d_model)\n",
    "        self.transformer = nn.TransformerEncoder(\n",
    "            nn.TransformerEncoderLayer(d_model=d_model, nhead=num_heads, dropout=0.1,dim_feedforward=2048),\n",
    "            num_layers=num_layers,\n",
    "            norm=nn.LayerNorm(d_model),\n",
    "        )\n",
    "        self.fc = nn.Linear(d_model, input_feature_dim)\n",
    "        self.pos_encoder = PositionalEncoding(d_model)\n",
    "\n",
    "    def generate_square_subsequent_mask(self, sz):\n",
    "        mask = (torch.triu(torch.ones(sz, sz)) == 1).transpose(0, 1)\n",
    "        mask = mask.float().masked_fill(mask == 0, float('-inf')).masked_fill(mask == 1, float(0.0))\n",
    "        return mask\n",
    "\n",
    "    def forward(self, x):\n",
    "        x = self.embedding(x)\n",
    "        x = self.pos_encoder(x)\n",
    "        mask = self.generate_square_subsequent_mask(len(x)).to(device)\n",
    "        x = x.permute(1,0,2)\n",
    "        x = self.transformer(x, mask)\n",
    "        x = x.permute(1,0,2)\n",
    "        x = self.fc(x)\n",
    "        return x\n",
    "    \n",
    "\n",
    "class PositionalEncoding(nn.Module):\n",
    "\n",
    "    def __init__(self, d_model: int, max_len: int = 5000):\n",
    "        super().__init__()\n",
    "\n",
    "        position = torch.arange(max_len).unsqueeze(1)\n",
    "        div_term = torch.exp(torch.arange(0, d_model, 2) * (-math.log(10000.0) / d_model))\n",
    "        pe = torch.zeros(max_len, 1, d_model)\n",
    "        pe[:, 0, 0::2] = torch.sin(position * div_term)\n",
    "        pe[:, 0, 1::2] = torch.cos(position * div_term)\n",
    "        self.register_buffer('pe', pe)\n",
    "\n",
    "    def forward(self, x: torch.Tensor) -> torch.Tensor:\n",
    "        \"\"\"\n",
    "        Arguments:\n",
    "            x: Tensor, shape ``[seq_len, batch_size, embedding_dim]``\n",
    "        \"\"\"\n",
    "        \n",
    "        x = x + (self.pe[:x.size(0)])\n",
    "        return x"
   ]
  },
  {
   "cell_type": "code",
   "execution_count": 15,
   "metadata": {},
   "outputs": [],
   "source": [
    "num_heads = 6\n",
    "num_layers = 6\n",
    "transformer_model = TransformerModel(input_feature_dim, hidden_size-(hidden_size%num_heads), num_heads=num_heads, num_layers=num_layers).to(device)\n",
    "# transformer_model = TransformerModel(input_feature_dim, int(input_feature_dim/2) - (int(input_feature_dim/2) % 4)).to(device)\n",
    "pad_token = tokenizer.encode(tokenizer.pad_token)[0]\n",
    "criterion = nn.CrossEntropyLoss(ignore_index=pad_token)\n",
    "optimizer = optim.AdamW(transformer_model.parameters(), lr = 0.0001, betas=(0.9, 0.95))\n",
    "# scheduler = MultiStepLR(optimizer, milestones=[2500, 7000], gamma=0.1)\n",
    "scheduler = torch.optim.lr_scheduler.ExponentialLR(optimizer, gamma = 0.98)\n",
    "# train_temperature = 1.0\n"
   ]
  },
  {
   "cell_type": "code",
   "execution_count": 16,
   "metadata": {},
   "outputs": [],
   "source": [
    "def softmax_with_temperature(logits, temperature):\n",
    "    return F.softmax(logits / temperature, dim=-1)"
   ]
  },
  {
   "cell_type": "code",
   "execution_count": 17,
   "metadata": {},
   "outputs": [
    {
     "name": "stdout",
     "output_type": "stream",
     "text": [
      "23903648\n"
     ]
    }
   ],
   "source": [
    "# print(summary(transformer_model, (1,m)))\n",
    "pytorch_total_params = sum(p.numel() for p in transformer_model.parameters())\n",
    "print(pytorch_total_params)\n"
   ]
  },
  {
   "cell_type": "code",
   "execution_count": 45,
   "metadata": {},
   "outputs": [],
   "source": [
    "# combined_string = dataset['train'][:]['text']\n",
    "\n",
    "# batch_size = 250\n",
    "# batches = [combined_string[i:i+batch_size][0] for i in range(0, len(combined_string), batch_size)]\n",
    "# if len(batches[-1]) != batch_size:\n",
    "#     batches.pop()\n",
    "\n",
    "# char_1 = 0\n",
    "# batches = batches\n",
    "# for i in batches:\n",
    "#     char_1 += len(i)\n",
    "# print(len(batches))\n",
    "# print(len(combined_string))\n",
    "# # print(batches[-1])\n",
    "# print(dataset['train'][-1])\n",
    "# print(combined_string[-1])\n",
    "# batches = dataset['train']\n",
    "# chars = 0\n",
    "# for i,batch in enumerate(batches):\n",
    "#     chars += len(batch['text'])\n",
    "# # print(i)\n",
    "# print(char_1)\n",
    "# print(chars)\n",
    "# num_sequences = 30000"
   ]
  },
  {
   "cell_type": "code",
   "execution_count": 18,
   "metadata": {},
   "outputs": [
    {
     "name": "stderr",
     "output_type": "stream",
     "text": [
      "You're using a LlamaTokenizerFast tokenizer. Please note that with a fast tokenizer, using the `__call__` method is faster than using a method to encode the text followed by a call to the `pad` method to get a padded encoding.\n",
      "C:\\Users\\vjsam\\AppData\\Local\\Temp\\ipykernel_51800\\97658712.py:24: UserWarning: To copy construct from a tensor, it is recommended to use sourceTensor.clone().detach() or sourceTensor.clone().detach().requires_grad_(True), rather than torch.tensor(sourceTensor).\n",
      "  sequence = torch.tensor(input['input_ids']).to(device)\n"
     ]
    },
    {
     "name": "stdout",
     "output_type": "stream",
     "text": [
      "Iteration: 1000/529930\n",
      "Iteration: 2000/529930\n",
      "Iteration: 3000/529930\n",
      "Iteration: 4000/529930\n",
      "Iteration: 5000/529930\n",
      "Iteration: 6000/529930\n",
      "Iteration: 7000/529930\n",
      "Iteration: 8000/529930\n",
      "Iteration: 9000/529930\n",
      "Iteration: 10000/529930\n",
      "Iteration: 11000/529930\n",
      "Iteration: 12000/529930\n",
      "Iteration: 13000/529930\n",
      "Iteration: 14000/529930\n",
      "Iteration: 15000/529930\n",
      "Iteration: 16000/529930\n",
      "Iteration: 17000/529930\n",
      "Iteration: 18000/529930\n",
      "Iteration: 19000/529930\n",
      "Iteration: 20000/529930\n",
      "Iteration: 21000/529930\n",
      "Iteration: 22000/529930\n",
      "Iteration: 23000/529930\n",
      "Iteration: 24000/529930\n",
      "Iteration: 25000/529930\n",
      "Iteration: 26000/529930\n",
      "Iteration: 27000/529930\n",
      "Iteration: 28000/529930\n",
      "Iteration: 29000/529930\n",
      "Iteration: 30000/529930\n",
      "Iteration: 31000/529930\n",
      "Iteration: 32000/529930\n",
      "Iteration: 33000/529930\n",
      "Iteration: 34000/529930\n",
      "Iteration: 35000/529930\n",
      "Iteration: 36000/529930\n",
      "Iteration: 37000/529930\n",
      "Iteration: 38000/529930\n",
      "Iteration: 39000/529930\n",
      "Iteration: 40000/529930\n",
      "Iteration: 41000/529930\n",
      "Iteration: 42000/529930\n",
      "Iteration: 43000/529930\n",
      "Iteration: 44000/529930\n",
      "Iteration: 45000/529930\n",
      "Iteration: 46000/529930\n",
      "Iteration: 47000/529930\n",
      "Iteration: 48000/529930\n",
      "Iteration: 49000/529930\n",
      "Iteration: 50000/529930\n",
      "Iteration: 51000/529930\n",
      "Iteration: 52000/529930\n",
      "Iteration: 53000/529930\n",
      "Iteration: 54000/529930\n",
      "Iteration: 55000/529930\n",
      "Iteration: 56000/529930\n",
      "Iteration: 57000/529930\n",
      "Iteration: 58000/529930\n",
      "Iteration: 59000/529930\n",
      "Iteration: 60000/529930\n",
      "Iteration: 61000/529930\n",
      "Iteration: 62000/529930\n",
      "Iteration: 63000/529930\n",
      "Iteration: 64000/529930\n",
      "Iteration: 65000/529930\n",
      "Iteration: 66000/529930\n",
      "Iteration: 67000/529930\n",
      "Iteration: 68000/529930\n",
      "Iteration: 69000/529930\n",
      "Iteration: 70000/529930\n",
      "Iteration: 71000/529930\n",
      "Iteration: 72000/529930\n",
      "Iteration: 73000/529930\n",
      "Iteration: 74000/529930\n",
      "Iteration: 75000/529930\n",
      "Iteration: 76000/529930\n",
      "Iteration: 77000/529930\n",
      "Iteration: 78000/529930\n",
      "Iteration: 79000/529930\n",
      "Iteration: 80000/529930\n",
      "Iteration: 81000/529930\n",
      "Iteration: 82000/529930\n",
      "Iteration: 83000/529930\n",
      "Iteration: 84000/529930\n",
      "Iteration: 85000/529930\n",
      "Iteration: 86000/529930\n",
      "Iteration: 87000/529930\n",
      "Iteration: 88000/529930\n",
      "Iteration: 89000/529930\n",
      "Iteration: 90000/529930\n",
      "Iteration: 91000/529930\n",
      "Iteration: 92000/529930\n",
      "Iteration: 93000/529930\n",
      "Iteration: 94000/529930\n",
      "Iteration: 95000/529930\n",
      "Iteration: 96000/529930\n",
      "Iteration: 97000/529930\n",
      "Iteration: 98000/529930\n",
      "Iteration: 99000/529930\n",
      "Iteration: 100000/529930\n"
     ]
    }
   ],
   "source": [
    "num_epochs = 1\n",
    "training_loss_values = []\n",
    "training_error_values = []\n",
    "validation_loss_values = []\n",
    "validation_error_values = []\n",
    "x_vals = []\n",
    "x_val = 1\n",
    "validation_x_vals = []\n",
    "num_validation_seq = 5\n",
    "\n",
    "\n",
    "for epoch in range(num_epochs):\n",
    "\n",
    "    # loss_accumulator = 0\n",
    "    # error_accumulator = 0\n",
    "    \n",
    "    for i,input in enumerate(train_loader):\n",
    "        # with profile(activities=[ProfilerActivity.CPU, ProfilerActivity.CUDA], \n",
    "        #              record_shapes=True, \n",
    "        #              profile_memory=True, \n",
    "        #              use_cuda=torch.cuda.is_available()) as prof:\n",
    "    # for i, input in enumerate(batches):\n",
    "            # input = input['text']\n",
    "            sequence = torch.tensor(input['input_ids']).to(device)\n",
    "            # attn_mask = torch.tensor(input['attention_mask'])[:, 1:].to(device)\n",
    "            # print(attn_mask.shape)\n",
    "            # print(sequence.shape)\n",
    "            transformer_model.train()\n",
    "            # tokens = encoding.encode(input)\n",
    "            # sequence = torch.tensor(tokens).long().to(device)\n",
    "            labels = sequence[:,1:].contiguous().view(-1)\n",
    "            output = transformer_model(sequence[:,:-1])\n",
    "            # print(output.shape)\n",
    "            # pad_tensor = torch.zeros_like(output)\n",
    "            # pad_tensor[:, :, pad_token] = 1\n",
    "            # attn_mask = attn_mask.unsqueeze(2).repeat(1,1,50257)\n",
    "            # # print(attn_mask.unsqueeze(2).repeat(1,1,50257).shape)\n",
    "            # output = torch.where(attn_mask==1, output, pad_tensor)\n",
    "            \n",
    "            output = output.view(-1, output.size(-1))\n",
    "            \n",
    "            loss = criterion(output,labels)\n",
    "            # softmaxed_logits = softmax_with_temperature(output, train_temperature)\n",
    "            # loss = nn.NLLLoss()(torch.log(softmaxed_logits), labels)\n",
    "            optimizer.zero_grad()\n",
    "            loss.backward()\n",
    "            # torch.nn.utils.clip_grad_norm_(rnn.parameters(), 15.0)\n",
    "            # loss_accumulator += loss.item()\n",
    "            optimizer.step()\n",
    "            # training_loss_values.append(loss.item())\n",
    "            \n",
    "            predicted_labels = torch.argmax(output,dim=1)\n",
    "            training_error = 1.0 - (labels == predicted_labels).sum()/(len(labels))\n",
    "            # training_error_values.append(training_error.item())\n",
    "            # error_accumulator += training_error.item()\n",
    "\n",
    "            # x_vals.append(x_val)\n",
    "\n",
    "            # if x_val % 50 == 0:  # If 50 iterations have passed\n",
    "            #     avg_loss = loss_accumulator / 50.0\n",
    "            #     avg_error = error_accumulator / 50.0\n",
    "            #     training_loss_values.append(avg_loss)\n",
    "            #     training_error_values.append(avg_error)\n",
    "            #     x_vals.append(x_val)\n",
    "            #     # Reset the accumulators\n",
    "            #     loss_accumulator = 0\n",
    "            #     error_accumulator = 0\n",
    "\n",
    "            training_loss_values.append(loss.item())\n",
    "            training_error_values.append(training_error.item())\n",
    "\n",
    "            if (x_val % 1000) == 0:\n",
    "                transformer_model.eval()\n",
    "                print('Iteration: {}/{}'.format(x_val, len(train_loader)))\n",
    "                scheduler.step()\n",
    "\n",
    "                # test_loss_accumulator = 0\n",
    "                # test_error_accumulator = 0\n",
    "                \n",
    "                # # Validation\n",
    "                # for j in range(num_validation_seq):\n",
    "                #     future_sequence = torch.tensor(tokenized_train_dataset[i+j+1]['input_ids']).to(device)\n",
    "                #     # future_tokens = encoding.encode(future_input)\n",
    "                #     # future_sequence = torch.tensor(future_tokens).long().to(device)\n",
    "                #     future_output = transformer_model(future_sequence[:-1])\n",
    "                #     future_labels = future_sequence[1:]\n",
    "                #     future_loss = criterion(future_output, future_labels)\n",
    "                #     # future_softmaxed_logits = softmax_with_temperature(future_output, train_temperature)\n",
    "                #     # future_loss = nn.NLLLoss()(torch.log(future_softmaxed_logits), future_labels)\n",
    "                #     # validation_loss_values.append(future_loss.item())\n",
    "                #     test_loss_accumulator += future_loss.item()\n",
    "                #     future_predicted_labels = torch.argmax(future_output, dim=1)\n",
    "                #     validation_error = (1.0 - (future_labels == future_predicted_labels).sum() / (len(future_sequence) - 1)).item()\n",
    "                #     # validation_error_values.append(validation_error.item())\n",
    "                #     test_error_accumulator += validation_error\n",
    "                # validation_loss_values.append((test_loss_accumulator/num_validation_seq))\n",
    "                # validation_error_values.append((test_error_accumulator/num_validation_seq))\n",
    "                # validation_x_vals.append(x_val)\n",
    "            \n",
    "            if x_val==100000:\n",
    "                break\n",
    "                \n",
    "            x_val +=1\n",
    "\n",
    "            del loss, output, labels\n",
    "        # print(prof.key_averages().table(sort_by=\"cuda_time_total\"))\n",
    "            # scheduler.step()"
   ]
  },
  {
   "cell_type": "code",
   "execution_count": 49,
   "metadata": {},
   "outputs": [
    {
     "name": "stdout",
     "output_type": "stream",
     "text": [
      "Model saved\n"
     ]
    }
   ],
   "source": [
    "# torch.save(transformer_model.state_dict(), 'transformer_model.pth')\n",
    "# print('Model saved')"
   ]
  },
  {
   "cell_type": "code",
   "execution_count": 20,
   "metadata": {},
   "outputs": [
    {
     "data": {
      "text/plain": [
       "<Figure size 640x480 with 0 Axes>"
      ]
     },
     "execution_count": 20,
     "metadata": {},
     "output_type": "execute_result"
    },
    {
     "data": {
      "image/png": "[encoded data removed]",
      "text/plain": [
       "<Figure size 640x480 with 1 Axes>"
      ]
     },
     "metadata": {},
     "output_type": "display_data"
    },
    {
     "data": {
      "image/png": "[encoded data removed]",
      "text/plain": [
       "<Figure size 640x480 with 1 Axes>"
      ]
     },
     "metadata": {},
     "output_type": "display_data"
    },
    {
     "data": {
      "text/plain": [
       "<Figure size 640x480 with 0 Axes>"
      ]
     },
     "metadata": {},
     "output_type": "display_data"
    }
   ],
   "source": [
    "# output,_ = rnn(input[40].to(device))\n",
    "# output = [unique_chars[i] for i in torch.argmax(output, dim=1).tolist()]\n",
    "# output = torch.tensor(unique_chars)\n",
    "# [torch.argmax(output, dim=1)]\n",
    "# print(batches[40])\n",
    "# # print((output))\n",
    "# # print(output)\n",
    "# print(error)\n",
    "# print(current_labels)\n",
    "# print(torch.argmax(output,dim=1))\n",
    "# test = [1,2,3,4,5]\n",
    "\n",
    "# training_error_values = [i.cpu().item() for i in training_error_values]\n",
    "# validation_error_values = [i.cpu().item() for i in validation_error_values]\n",
    "# validation_loss_values = [i.cpu().item() for i in validation_loss_values]\n",
    "x_vals = np.arange(x_val)\n",
    "\n",
    "plt.figure()\n",
    "plt.plot(x_vals[0:200000],training_loss_values[0:200000])\n",
    "plt.xlabel('Weight Update Iteration')\n",
    "plt.ylabel('Loss Value')\n",
    "plt.title('Training Loss')\n",
    "plt.figure()\n",
    "plt.plot(x_vals[0:200000], training_error_values[0:200000])\n",
    "plt.xlabel('Weight Update Iteration')\n",
    "plt.ylabel('Error')\n",
    "plt.title('Training Error')\n",
    "plt.figure()\n",
    "# plt.plot(validation_x_vals, validation_loss_values)\n",
    "# plt.xlabel('Weight Update Iteration')\n",
    "# plt.ylabel('Loss Value')\n",
    "# plt.title('Validation Loss')\n",
    "# plt.figure()\n",
    "# plt.plot(validation_x_vals, validation_error_values)\n",
    "# plt.xlabel('Weight Update Iteration')\n",
    "# plt.ylabel('Error')\n",
    "# plt.title('Validation Error')\n",
    "# plt.show()"
   ]
  },
  {
   "cell_type": "code",
   "execution_count": 25,
   "metadata": {},
   "outputs": [
    {
     "name": "stdout",
     "output_type": "stream",
     "text": [
      "Alice and Jack walked up the street and met a girl in a red dress. The girl said to them, ”Hi, I’m Jane. What are your names?”?\"\n",
      "\n",
      "Lucysmiledandmarepliedcharminginledinandaghettiforledwithed.\n",
      "\n",
      "\"AMay!\"saidsaidthecats.\n",
      "\n",
      "\"Iwantwhatlikeso,\"said.\"\n",
      "\n",
      "standing岛atyrepliedandpatight'seyes.\"\n",
      "\n",
      "\"It'sa,\"saidsaidthepointingtheilledtooed.\n",
      "\n",
      "\"Itlookssoup,\"saidsaidsaidas,pointingherdiscoverherbelongedwith.\n",
      "\n",
      "\"\n"
     ]
    }
   ],
   "source": [
    "test_temperature = 0.9\n",
    "transformer_model.eval()\n",
    "capital_letters = [chr(i) for i in range(65, 91)]\n",
    "example_sentences = []\n",
    "#initialize = [\"I went to the store.\"]\n",
    "initialize = ['Alice and Jack walked up the street and met a girl in a red dress. The girl said to them, ”Hi, I’m Jane. What are your names?”']\n",
    "# initialize = ['Tom and Jane are friends. One day, Jane goes to Tom’s house. Tom has a big pot of soup. He wants to share it with Jane. “Jane, do you want some soup?” Tom asks. “Yes, please. It looks yummy,” Jane says. Tom pours some soup into two bowls. He gives one bowl to Jane. Jane takes a spoonful of soup, but then she makes a face. The soup is']\n",
    "inference_tokens = 100\n",
    "for i in range(1):\n",
    "    sentence = initialize[i]\n",
    "    tokenized_sentence = tokenizer.encode(sentence)\n",
    "    next_char = torch.tensor(tokenized_sentence).long().unsqueeze(0).to(device)\n",
    "    for j in range(inference_tokens):\n",
    "        next_char = transformer_model(next_char)\n",
    "        # print(next_char.shape)\n",
    "        # print(next_char.shape)\n",
    "        next_softmax = softmax_with_temperature(next_char, test_temperature)\n",
    "        # predicted_char = torch.argmax(next_softmax,dim=1)\n",
    "        predicted_char = torch.multinomial(next_softmax[0,-1],1)\n",
    "        # letter = unique_chars[predicted_char[-1]]\n",
    "        letter = tokenizer.decode([predicted_char.item()])\n",
    "        sentence += letter\n",
    "        # next_char = torch.tensor(tokenize(sentence)).long().to(device)\n",
    "        next_tokenized_sentence = tokenizer.encode(sentence)\n",
    "        next_char = torch.tensor(next_tokenized_sentence).unsqueeze(0).long().to(device)\n",
    "    example_sentences.append(sentence)\n",
    "example_sentences = np.array(example_sentences)\n",
    "print(example_sentences[0])\n",
    "# print(example_sentences[1])\n",
    "# print(example_sentences[2])\n",
    "# print(example_sentences[3])\n",
    "# print(example_sentences[4])"
   ]
  }
 ],
 "metadata": {
  "kernelspec": {
   "display_name": "base",
   "language": "python",
   "name": "python3"
  },
  "language_info": {
   "codemirror_mode": {
    "name": "ipython",
    "version": 3
   },
   "file_extension": ".py",
   "mimetype": "text/x-python",
   "name": "python",
   "nbconvert_exporter": "python",
   "pygments_lexer": "ipython3",
   "version": "3.9.13"
  },
  "orig_nbformat": 4
 },
 "nbformat": 4,
 "nbformat_minor": 2
}
