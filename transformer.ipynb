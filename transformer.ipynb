{
 "cells": [
  {
   "cell_type": "code",
   "execution_count": 30,
   "metadata": {},
   "outputs": [],
   "source": [
    "import torch\n",
    "import torchvision\n",
    "import torch.nn as nn\n",
    "import torchvision.transforms as transforms\n",
    "import torch.optim as optim\n",
    "import matplotlib.pyplot as plt\n",
    "from torch.optim.lr_scheduler import MultiStepLR\n",
    "import numpy as np\n",
    "import random\n",
    "import torch.nn.utils\n",
    "import textwrap\n",
    "import re\n",
    "from torch.nn import TransformerEncoder, TransformerEncoderLayer\n",
    "import math\n",
    "from torchsummary import summary\n",
    "import torch.nn.functional as F\n",
    "import tiktoken\n",
    "from transformers import AutoTokenizer\n",
    "from datasets import load_dataset\n",
    "import math\n",
    "import datasets\n",
    "from transformers import DataCollatorWithPadding\n",
    "from torch.utils.data import DataLoader"
   ]
  },
  {
   "cell_type": "code",
   "execution_count": 31,
   "metadata": {},
   "outputs": [
    {
     "name": "stdout",
     "output_type": "stream",
     "text": [
      "116\n"
     ]
    },
    {
     "name": "stderr",
     "output_type": "stream",
     "text": [
      "c:\\Users\\vjsam\\anaconda3\\lib\\site-packages\\huggingface_hub\\repocard.py:105: UserWarning: Repo card metadata block was not found. Setting CardData to empty.\n",
      "  warnings.warn(\"Repo card metadata block was not found. Setting CardData to empty.\")\n"
     ]
    }
   ],
   "source": [
    "device = torch.device('cuda' if torch.cuda.is_available() else 'cpu')\n",
    "\n",
    "file_paths = ['gutenberg_shakespeare.txt', 'gutenberg_war_and_peace.txt', 'gutenberg_don_quixote.txt', 'gutenberg_brothers_karamazov.txt']\n",
    "# file_paths = ['gutenberg_war_and_peace.txt']\n",
    "# Initialize an empty string to hold the combined content\n",
    "combined_string = ''\n",
    "\n",
    "# # Loop through each file path, open the file, read its content, and append it to the combined_string\n",
    "# for file_path in file_paths:\n",
    "#     file = open(file_path, 'r', encoding='utf-8-sig')\n",
    "#     combined_string += file.read().strip()\n",
    "#     file.close()  # Close the file after reading its content\n",
    "\n",
    "for file_path in file_paths:\n",
    "    with open(file_path, 'r', encoding='utf-8-sig') as file:\n",
    "        # Read file content, split by lines, strip each line and then join them back\n",
    "        content = file.read().splitlines()[30:-18500]\n",
    "        stripped_content = \" \".join([line.strip() for line in content if line.strip()])  # Strip leading/trailing whitespace and remove empty lines\n",
    "        combined_string += stripped_content\n",
    "\n",
    "\n",
    "# combined_string = re.sub(r'\\n\\s*\\n', '\\n', combined_string)\n",
    "#combined_string = re.sub(r\"[\\n\\t]*\", \"\", combined_string)\n",
    "\n",
    "unique_chars = list(set(combined_string))\n",
    "# print(unique_chars)\n",
    "m = len(unique_chars)\n",
    "print(m)\n",
    "\n",
    "dataset = load_dataset(\"roneneldan/TinyStories\")"
   ]
  },
  {
   "cell_type": "code",
   "execution_count": 32,
   "metadata": {},
   "outputs": [
    {
     "name": "stdout",
     "output_type": "stream",
     "text": [
      "DatasetDict({\n",
      "    train: Dataset({\n",
      "        features: ['text'],\n",
      "        num_rows: 2119719\n",
      "    })\n",
      "    validation: Dataset({\n",
      "        features: ['text'],\n",
      "        num_rows: 21990\n",
      "    })\n",
      "})\n"
     ]
    }
   ],
   "source": [
    "print(dataset)"
   ]
  },
  {
   "cell_type": "code",
   "execution_count": 33,
   "metadata": {},
   "outputs": [],
   "source": [
    "def chunk_examples(examples):\n",
    "    window = 250\n",
    "    chunks = []\n",
    "    for sentence in examples[\"text\"]:\n",
    "        chunks += [sentence[i:i + window] for i in range(0, len(sentence), window)]\n",
    "    return {\"text\": chunks}"
   ]
  },
  {
   "cell_type": "code",
   "execution_count": 34,
   "metadata": {},
   "outputs": [],
   "source": [
    "train_dataset = dataset['train']\n",
    "updated_train_dataset = train_dataset.map(chunk_examples, batched=True,remove_columns=train_dataset.column_names, num_proc=5)"
   ]
  },
  {
   "cell_type": "code",
   "execution_count": 35,
   "metadata": {},
   "outputs": [],
   "source": [
    "# encoding = tiktoken.get_encoding(\"r50k_base\")\n",
    "# tokenizer = AutoTokenizer.from_pretrained(\"EleutherAI/gpt-neo-125M\")"
   ]
  },
  {
   "cell_type": "code",
   "execution_count": 43,
   "metadata": {},
   "outputs": [],
   "source": [
    "tokenizer = AutoTokenizer.from_pretrained(\"EleutherAI/gpt-neo-125M\")\n",
    "tokenizer.pad_token = tokenizer.eos_token\n",
    "def tokenization(example):\n",
    "    from transformers import AutoTokenizer\n",
    "    tokenizer = AutoTokenizer.from_pretrained(\"EleutherAI/gpt-neo-125M\")\n",
    "    tokenizer.pad_token = tokenizer.eos_token\n",
    "    return tokenizer(example['text'], truncation=True)"
   ]
  },
  {
   "cell_type": "code",
   "execution_count": 37,
   "metadata": {},
   "outputs": [
    {
     "data": {
      "application/vnd.jupyter.widget-view+json": {
       "model_id": "f54e9db2139742d0978b2e81e9dae01d",
       "version_major": 2,
       "version_minor": 0
      },
      "text/plain": [
       "Map (num_proc=7):   0%|          | 0/8647073 [00:00<?, ? examples/s]"
      ]
     },
     "metadata": {},
     "output_type": "display_data"
    }
   ],
   "source": [
    "# train_dataset = dataset['train']\n",
    "# tokenized_entries = train_dataset.map(tokenization, batched=True)\n",
    "# tokenized_entries = encoding.batch_encode_plus(train_dataset['text'], \n",
    "#                                                return_tensors=\"pt\")\n",
    "# tokenized_entries = encoding(train_dataset['text'], return_tensors=\"pt\")\n",
    "tokenized_entries = updated_train_dataset.map(tokenization, batched=True, num_proc=7)\n",
    "tokenized_entries.save_to_disk(\"tokenized_train_dataset\")"
   ]
  },
  {
   "cell_type": "code",
   "execution_count": 47,
   "metadata": {},
   "outputs": [
    {
     "ename": "ValueError",
     "evalue": "Column name text not in the dataset. Current columns in the dataset: ['input_ids', 'attention_mask']",
     "output_type": "error",
     "traceback": [
      "\u001b[1;31m---------------------------------------------------------------------------\u001b[0m",
      "\u001b[1;31mValueError\u001b[0m                                Traceback (most recent call last)",
      "\u001b[1;32m~\\AppData\\Local\\Temp\\ipykernel_54488\\3663798436.py\u001b[0m in \u001b[0;36m<module>\u001b[1;34m\u001b[0m\n\u001b[1;32m----> 1\u001b[1;33m \u001b[0mtokenized_entries\u001b[0m \u001b[1;33m=\u001b[0m \u001b[0mtokenized_entries\u001b[0m\u001b[1;33m.\u001b[0m\u001b[0mremove_columns\u001b[0m\u001b[1;33m(\u001b[0m\u001b[1;33m[\u001b[0m\u001b[1;34m\"text\"\u001b[0m\u001b[1;33m]\u001b[0m\u001b[1;33m)\u001b[0m\u001b[1;33m\u001b[0m\u001b[1;33m\u001b[0m\u001b[0m\n\u001b[0m\u001b[0;32m      2\u001b[0m \u001b[0mprint\u001b[0m\u001b[1;33m(\u001b[0m\u001b[0mtokenized_entries\u001b[0m\u001b[1;33m)\u001b[0m\u001b[1;33m\u001b[0m\u001b[1;33m\u001b[0m\u001b[0m\n",
      "\u001b[1;32mc:\\Users\\vjsam\\anaconda3\\lib\\site-packages\\datasets\\arrow_dataset.py\u001b[0m in \u001b[0;36mwrapper\u001b[1;34m(*args, **kwargs)\u001b[0m\n\u001b[0;32m    589\u001b[0m             \u001b[0mself\u001b[0m\u001b[1;33m:\u001b[0m \u001b[1;34m\"Dataset\"\u001b[0m \u001b[1;33m=\u001b[0m \u001b[0mkwargs\u001b[0m\u001b[1;33m.\u001b[0m\u001b[0mpop\u001b[0m\u001b[1;33m(\u001b[0m\u001b[1;34m\"self\"\u001b[0m\u001b[1;33m)\u001b[0m\u001b[1;33m\u001b[0m\u001b[1;33m\u001b[0m\u001b[0m\n\u001b[0;32m    590\u001b[0m         \u001b[1;31m# apply actual function\u001b[0m\u001b[1;33m\u001b[0m\u001b[1;33m\u001b[0m\u001b[0m\n\u001b[1;32m--> 591\u001b[1;33m         \u001b[0mout\u001b[0m\u001b[1;33m:\u001b[0m \u001b[0mUnion\u001b[0m\u001b[1;33m[\u001b[0m\u001b[1;34m\"Dataset\"\u001b[0m\u001b[1;33m,\u001b[0m \u001b[1;34m\"DatasetDict\"\u001b[0m\u001b[1;33m]\u001b[0m \u001b[1;33m=\u001b[0m \u001b[0mfunc\u001b[0m\u001b[1;33m(\u001b[0m\u001b[0mself\u001b[0m\u001b[1;33m,\u001b[0m \u001b[1;33m*\u001b[0m\u001b[0margs\u001b[0m\u001b[1;33m,\u001b[0m \u001b[1;33m**\u001b[0m\u001b[0mkwargs\u001b[0m\u001b[1;33m)\u001b[0m\u001b[1;33m\u001b[0m\u001b[1;33m\u001b[0m\u001b[0m\n\u001b[0m\u001b[0;32m    592\u001b[0m         \u001b[0mdatasets\u001b[0m\u001b[1;33m:\u001b[0m \u001b[0mList\u001b[0m\u001b[1;33m[\u001b[0m\u001b[1;34m\"Dataset\"\u001b[0m\u001b[1;33m]\u001b[0m \u001b[1;33m=\u001b[0m \u001b[0mlist\u001b[0m\u001b[1;33m(\u001b[0m\u001b[0mout\u001b[0m\u001b[1;33m.\u001b[0m\u001b[0mvalues\u001b[0m\u001b[1;33m(\u001b[0m\u001b[1;33m)\u001b[0m\u001b[1;33m)\u001b[0m \u001b[1;32mif\u001b[0m \u001b[0misinstance\u001b[0m\u001b[1;33m(\u001b[0m\u001b[0mout\u001b[0m\u001b[1;33m,\u001b[0m \u001b[0mdict\u001b[0m\u001b[1;33m)\u001b[0m \u001b[1;32melse\u001b[0m \u001b[1;33m[\u001b[0m\u001b[0mout\u001b[0m\u001b[1;33m]\u001b[0m\u001b[1;33m\u001b[0m\u001b[1;33m\u001b[0m\u001b[0m\n\u001b[0;32m    593\u001b[0m         \u001b[1;32mfor\u001b[0m \u001b[0mdataset\u001b[0m \u001b[1;32min\u001b[0m \u001b[0mdatasets\u001b[0m\u001b[1;33m:\u001b[0m\u001b[1;33m\u001b[0m\u001b[1;33m\u001b[0m\u001b[0m\n",
      "\u001b[1;32mc:\\Users\\vjsam\\anaconda3\\lib\\site-packages\\datasets\\arrow_dataset.py\u001b[0m in \u001b[0;36mwrapper\u001b[1;34m(*args, **kwargs)\u001b[0m\n\u001b[0;32m    554\u001b[0m         }\n\u001b[0;32m    555\u001b[0m         \u001b[1;31m# apply actual function\u001b[0m\u001b[1;33m\u001b[0m\u001b[1;33m\u001b[0m\u001b[0m\n\u001b[1;32m--> 556\u001b[1;33m         \u001b[0mout\u001b[0m\u001b[1;33m:\u001b[0m \u001b[0mUnion\u001b[0m\u001b[1;33m[\u001b[0m\u001b[1;34m\"Dataset\"\u001b[0m\u001b[1;33m,\u001b[0m \u001b[1;34m\"DatasetDict\"\u001b[0m\u001b[1;33m]\u001b[0m \u001b[1;33m=\u001b[0m \u001b[0mfunc\u001b[0m\u001b[1;33m(\u001b[0m\u001b[0mself\u001b[0m\u001b[1;33m,\u001b[0m \u001b[1;33m*\u001b[0m\u001b[0margs\u001b[0m\u001b[1;33m,\u001b[0m \u001b[1;33m**\u001b[0m\u001b[0mkwargs\u001b[0m\u001b[1;33m)\u001b[0m\u001b[1;33m\u001b[0m\u001b[1;33m\u001b[0m\u001b[0m\n\u001b[0m\u001b[0;32m    557\u001b[0m         \u001b[0mdatasets\u001b[0m\u001b[1;33m:\u001b[0m \u001b[0mList\u001b[0m\u001b[1;33m[\u001b[0m\u001b[1;34m\"Dataset\"\u001b[0m\u001b[1;33m]\u001b[0m \u001b[1;33m=\u001b[0m \u001b[0mlist\u001b[0m\u001b[1;33m(\u001b[0m\u001b[0mout\u001b[0m\u001b[1;33m.\u001b[0m\u001b[0mvalues\u001b[0m\u001b[1;33m(\u001b[0m\u001b[1;33m)\u001b[0m\u001b[1;33m)\u001b[0m \u001b[1;32mif\u001b[0m \u001b[0misinstance\u001b[0m\u001b[1;33m(\u001b[0m\u001b[0mout\u001b[0m\u001b[1;33m,\u001b[0m \u001b[0mdict\u001b[0m\u001b[1;33m)\u001b[0m \u001b[1;32melse\u001b[0m \u001b[1;33m[\u001b[0m\u001b[0mout\u001b[0m\u001b[1;33m]\u001b[0m\u001b[1;33m\u001b[0m\u001b[1;33m\u001b[0m\u001b[0m\n\u001b[0;32m    558\u001b[0m         \u001b[1;31m# re-apply format to the output\u001b[0m\u001b[1;33m\u001b[0m\u001b[1;33m\u001b[0m\u001b[0m\n",
      "\u001b[1;32mc:\\Users\\vjsam\\anaconda3\\lib\\site-packages\\datasets\\fingerprint.py\u001b[0m in \u001b[0;36mwrapper\u001b[1;34m(*args, **kwargs)\u001b[0m\n\u001b[0;32m    509\u001b[0m             \u001b[1;31m# Call actual function\u001b[0m\u001b[1;33m\u001b[0m\u001b[1;33m\u001b[0m\u001b[0m\n\u001b[0;32m    510\u001b[0m \u001b[1;33m\u001b[0m\u001b[0m\n\u001b[1;32m--> 511\u001b[1;33m             \u001b[0mout\u001b[0m \u001b[1;33m=\u001b[0m \u001b[0mfunc\u001b[0m\u001b[1;33m(\u001b[0m\u001b[0mdataset\u001b[0m\u001b[1;33m,\u001b[0m \u001b[1;33m*\u001b[0m\u001b[0margs\u001b[0m\u001b[1;33m,\u001b[0m \u001b[1;33m**\u001b[0m\u001b[0mkwargs\u001b[0m\u001b[1;33m)\u001b[0m\u001b[1;33m\u001b[0m\u001b[1;33m\u001b[0m\u001b[0m\n\u001b[0m\u001b[0;32m    512\u001b[0m \u001b[1;33m\u001b[0m\u001b[0m\n\u001b[0;32m    513\u001b[0m             \u001b[1;31m# Update fingerprint of in-place transforms + update in-place history of transforms\u001b[0m\u001b[1;33m\u001b[0m\u001b[1;33m\u001b[0m\u001b[0m\n",
      "\u001b[1;32mc:\\Users\\vjsam\\anaconda3\\lib\\site-packages\\datasets\\arrow_dataset.py\u001b[0m in \u001b[0;36mremove_columns\u001b[1;34m(self, column_names, new_fingerprint)\u001b[0m\n\u001b[0;32m   2145\u001b[0m         \u001b[1;32mfor\u001b[0m \u001b[0mcolumn_name\u001b[0m \u001b[1;32min\u001b[0m \u001b[0mcolumn_names\u001b[0m\u001b[1;33m:\u001b[0m\u001b[1;33m\u001b[0m\u001b[1;33m\u001b[0m\u001b[0m\n\u001b[0;32m   2146\u001b[0m             \u001b[1;32mif\u001b[0m \u001b[0mcolumn_name\u001b[0m \u001b[1;32mnot\u001b[0m \u001b[1;32min\u001b[0m \u001b[0mdataset\u001b[0m\u001b[1;33m.\u001b[0m\u001b[0m_data\u001b[0m\u001b[1;33m.\u001b[0m\u001b[0mcolumn_names\u001b[0m\u001b[1;33m:\u001b[0m\u001b[1;33m\u001b[0m\u001b[1;33m\u001b[0m\u001b[0m\n\u001b[1;32m-> 2147\u001b[1;33m                 raise ValueError(\n\u001b[0m\u001b[0;32m   2148\u001b[0m                     \u001b[1;34mf\"Column name {column_name} not in the dataset. \"\u001b[0m\u001b[1;33m\u001b[0m\u001b[1;33m\u001b[0m\u001b[0m\n\u001b[0;32m   2149\u001b[0m                     \u001b[1;34mf\"Current columns in the dataset: {dataset._data.column_names}\"\u001b[0m\u001b[1;33m\u001b[0m\u001b[1;33m\u001b[0m\u001b[0m\n",
      "\u001b[1;31mValueError\u001b[0m: Column name text not in the dataset. Current columns in the dataset: ['input_ids', 'attention_mask']"
     ]
    }
   ],
   "source": [
    "tokenized_entries = tokenized_entries.remove_columns([\"text\"])\n",
    "print(tokenized_entries)"
   ]
  },
  {
   "cell_type": "code",
   "execution_count": 86,
   "metadata": {},
   "outputs": [],
   "source": [
    "data_collator = DataCollatorWithPadding(tokenizer=tokenizer, return_tensors=\"pt\")\n",
    "train_loader = DataLoader(tokenized_entries, batch_size=10, shuffle=True, collate_fn=data_collator)"
   ]
  },
  {
   "cell_type": "code",
   "execution_count": 87,
   "metadata": {},
   "outputs": [],
   "source": [
    "# tokenized_train_dataset = datasets.load_from_disk('tokenized_train_dataset')"
   ]
  },
  {
   "cell_type": "code",
   "execution_count": 88,
   "metadata": {},
   "outputs": [],
   "source": [
    "# input_feature_dim = m\n",
    "# input_feature_dim = 50257\n",
    "input_feature_dim = tokenizer.vocab_size\n",
    "hidden_size = m*3\n",
    "# hidden_size = 2048"
   ]
  },
  {
   "cell_type": "code",
   "execution_count": 89,
   "metadata": {},
   "outputs": [],
   "source": [
    "# def tokenize(sequence):\n",
    "#     character_indices = []\n",
    "#     for i in sequence:\n",
    "#         char_index = unique_chars.index(i)\n",
    "#         character_indices.append(char_index)\n",
    "#     return character_indices\n"
   ]
  },
  {
   "cell_type": "code",
   "execution_count": 90,
   "metadata": {},
   "outputs": [],
   "source": [
    "class TransformerModel(nn.Module):\n",
    "    def __init__(self, input_feature_dim, d_model, num_heads, num_layers):\n",
    "        super(TransformerModel, self).__init__()\n",
    "        self.embedding = nn.Embedding(input_feature_dim, d_model)\n",
    "        self.transformer = nn.TransformerEncoder(\n",
    "            nn.TransformerEncoderLayer(d_model=d_model, nhead=num_heads),\n",
    "            num_layers=num_layers\n",
    "        )\n",
    "        self.fc = nn.Linear(d_model, input_feature_dim)\n",
    "        self.pos_encoder = PositionalEncoding(d_model)\n",
    "\n",
    "    def generate_square_subsequent_mask(self, sz):\n",
    "        mask = (torch.triu(torch.ones(sz, sz)) == 1).transpose(0, 1)\n",
    "        mask = mask.float().masked_fill(mask == 0, float('-inf')).masked_fill(mask == 1, float(0.0))\n",
    "        return mask\n",
    "\n",
    "    def forward(self, x):\n",
    "        x = self.embedding(x)\n",
    "        x = self.pos_encoder(x)\n",
    "        mask = self.generate_square_subsequent_mask(len(x)).to(device)\n",
    "        x = x.permute(1,0,2)\n",
    "        x = self.transformer(x, mask)\n",
    "        x = x.permute(1,0,2)\n",
    "        x = self.fc(x)\n",
    "        return x\n",
    "    \n",
    "\n",
    "class PositionalEncoding(nn.Module):\n",
    "\n",
    "    def __init__(self, d_model: int, max_len: int = 5000):\n",
    "        super().__init__()\n",
    "\n",
    "        position = torch.arange(max_len).unsqueeze(1)\n",
    "        div_term = torch.exp(torch.arange(0, d_model, 2) * (-math.log(10000.0) / d_model))\n",
    "        pe = torch.zeros(max_len, 1, d_model)\n",
    "        pe[:, 0, 0::2] = torch.sin(position * div_term)\n",
    "        pe[:, 0, 1::2] = torch.cos(position * div_term)\n",
    "        self.register_buffer('pe', pe)\n",
    "\n",
    "    def forward(self, x: torch.Tensor) -> torch.Tensor:\n",
    "        \"\"\"\n",
    "        Arguments:\n",
    "            x: Tensor, shape ``[seq_len, batch_size, embedding_dim]``\n",
    "        \"\"\"\n",
    "        \n",
    "        x = x + (self.pe[:x.size(0)])\n",
    "        return x"
   ]
  },
  {
   "cell_type": "code",
   "execution_count": 91,
   "metadata": {},
   "outputs": [],
   "source": [
    "num_heads = 6\n",
    "num_layers = 4\n",
    "transformer_model = TransformerModel(input_feature_dim, hidden_size-(hidden_size%num_heads), num_heads=num_heads, num_layers=num_layers).to(device)\n",
    "# transformer_model = TransformerModel(input_feature_dim, int(input_feature_dim/2) - (int(input_feature_dim/2) % 4)).to(device)\n",
    "criterion = nn.CrossEntropyLoss()\n",
    "optimizer = optim.Adam(transformer_model.parameters(), lr = 0.0001)\n",
    "# scheduler = MultiStepLR(optimizer, milestones=[2500, 7000], gamma=0.1)\n",
    "scheduler = torch.optim.lr_scheduler.ExponentialLR(optimizer, gamma = 0.95)\n",
    "train_temperature = 1.0\n"
   ]
  },
  {
   "cell_type": "code",
   "execution_count": 92,
   "metadata": {},
   "outputs": [],
   "source": [
    "def softmax_with_temperature(logits, temperature):\n",
    "    return F.softmax(logits / temperature, dim=-1)"
   ]
  },
  {
   "cell_type": "code",
   "execution_count": 93,
   "metadata": {},
   "outputs": [
    {
     "name": "stdout",
     "output_type": "stream",
     "text": [
      "42689145\n"
     ]
    }
   ],
   "source": [
    "# print(summary(transformer_model, (1,m)))\n",
    "pytorch_total_params = sum(p.numel() for p in transformer_model.parameters())\n",
    "print(pytorch_total_params)\n"
   ]
  },
  {
   "cell_type": "code",
   "execution_count": 94,
   "metadata": {},
   "outputs": [],
   "source": [
    "# combined_string = dataset['train'][:]['text']\n",
    "\n",
    "# batch_size = 250\n",
    "# batches = [combined_string[i:i+batch_size][0] for i in range(0, len(combined_string), batch_size)]\n",
    "# if len(batches[-1]) != batch_size:\n",
    "#     batches.pop()\n",
    "\n",
    "# char_1 = 0\n",
    "# batches = batches\n",
    "# for i in batches:\n",
    "#     char_1 += len(i)\n",
    "# print(len(batches))\n",
    "# print(len(combined_string))\n",
    "# # print(batches[-1])\n",
    "# print(dataset['train'][-1])\n",
    "# print(combined_string[-1])\n",
    "# batches = dataset['train']\n",
    "# chars = 0\n",
    "# for i,batch in enumerate(batches):\n",
    "#     chars += len(batch['text'])\n",
    "# # print(i)\n",
    "# print(char_1)\n",
    "# print(chars)\n",
    "# num_sequences = 30000"
   ]
  },
  {
   "cell_type": "code",
   "execution_count": 95,
   "metadata": {},
   "outputs": [
    {
     "name": "stderr",
     "output_type": "stream",
     "text": [
      "C:\\Users\\vjsam\\AppData\\Local\\Temp\\ipykernel_54488\\93208299.py:19: UserWarning: To copy construct from a tensor, it is recommended to use sourceTensor.clone().detach() or sourceTensor.clone().detach().requires_grad_(True), rather than torch.tensor(sourceTensor).\n",
      "  sequence = torch.tensor(input['input_ids']).to(device)\n"
     ]
    },
    {
     "name": "stdout",
     "output_type": "stream",
     "text": [
      "Iteration: 1000/864708\n",
      "Iteration: 2000/864708\n",
      "Iteration: 3000/864708\n",
      "Iteration: 4000/864708\n",
      "Iteration: 5000/864708\n",
      "Iteration: 6000/864708\n",
      "Iteration: 7000/864708\n",
      "Iteration: 8000/864708\n",
      "Iteration: 9000/864708\n",
      "Iteration: 10000/864708\n"
     ]
    }
   ],
   "source": [
    "num_epochs = 1\n",
    "training_loss_values = []\n",
    "training_error_values = []\n",
    "validation_loss_values = []\n",
    "validation_error_values = []\n",
    "x_vals = []\n",
    "x_val = 1\n",
    "validation_x_vals = []\n",
    "num_validation_seq = 5\n",
    "\n",
    "for epoch in range(num_epochs):\n",
    "\n",
    "    loss_accumulator = 0\n",
    "    error_accumulator = 0\n",
    "    \n",
    "    for i,input in enumerate(train_loader):\n",
    "    # for i, input in enumerate(batches):\n",
    "        # input = input['text']\n",
    "        sequence = torch.tensor(input['input_ids']).to(device)\n",
    "        transformer_model.train()\n",
    "        # tokens = encoding.encode(input)\n",
    "        # sequence = torch.tensor(tokens).long().to(device)\n",
    "        labels = sequence[:,1:].contiguous().view(-1)\n",
    "        output = transformer_model(sequence[:,:-1])\n",
    "        output = output.view(-1, output.size(-1))\n",
    "        loss = criterion(output,labels)\n",
    "        # softmaxed_logits = softmax_with_temperature(output, train_temperature)\n",
    "        # loss = nn.NLLLoss()(torch.log(softmaxed_logits), labels)\n",
    "        optimizer.zero_grad()\n",
    "        loss.backward()\n",
    "        # torch.nn.utils.clip_grad_norm_(rnn.parameters(), 15.0)\n",
    "        loss_accumulator += loss.item()\n",
    "        optimizer.step()\n",
    "        # training_loss_values.append(loss.item())\n",
    "        \n",
    "        predicted_labels = torch.argmax(output,dim=1)\n",
    "        training_error = 1.0 - (labels == predicted_labels).sum()/(len(sequence)-1)\n",
    "        # training_error_values.append(training_error.item())\n",
    "        error_accumulator += training_error.item()\n",
    "\n",
    "        # x_vals.append(x_val)\n",
    "\n",
    "        if x_val % 50 == 0:  # If 50 iterations have passed\n",
    "            avg_loss = loss_accumulator / 50.0\n",
    "            avg_error = error_accumulator / 50.0\n",
    "            training_loss_values.append(avg_loss)\n",
    "            training_error_values.append(avg_error)\n",
    "            x_vals.append(x_val)\n",
    "            # Reset the accumulators\n",
    "            loss_accumulator = 0\n",
    "            error_accumulator = 0\n",
    "\n",
    "        if (x_val % 1000) == 0:\n",
    "            transformer_model.eval()\n",
    "            print('Iteration: {}/{}'.format(x_val, len(train_loader)))\n",
    "\n",
    "            test_loss_accumulator = 0\n",
    "            test_error_accumulator = 0\n",
    "            \n",
    "            # # Validation\n",
    "            # for j in range(num_validation_seq):\n",
    "            #     future_sequence = torch.tensor(tokenized_train_dataset[i+j+1]['input_ids']).to(device)\n",
    "            #     # future_tokens = encoding.encode(future_input)\n",
    "            #     # future_sequence = torch.tensor(future_tokens).long().to(device)\n",
    "            #     future_output = transformer_model(future_sequence[:-1])\n",
    "            #     future_labels = future_sequence[1:]\n",
    "            #     future_loss = criterion(future_output, future_labels)\n",
    "            #     # future_softmaxed_logits = softmax_with_temperature(future_output, train_temperature)\n",
    "            #     # future_loss = nn.NLLLoss()(torch.log(future_softmaxed_logits), future_labels)\n",
    "            #     # validation_loss_values.append(future_loss.item())\n",
    "            #     test_loss_accumulator += future_loss.item()\n",
    "            #     future_predicted_labels = torch.argmax(future_output, dim=1)\n",
    "            #     validation_error = (1.0 - (future_labels == future_predicted_labels).sum() / (len(future_sequence) - 1)).item()\n",
    "            #     # validation_error_values.append(validation_error.item())\n",
    "            #     test_error_accumulator += validation_error\n",
    "            # validation_loss_values.append((test_loss_accumulator/num_validation_seq))\n",
    "            # validation_error_values.append((test_error_accumulator/num_validation_seq))\n",
    "            # validation_x_vals.append(x_val)\n",
    "        \n",
    "        if x_val==10000:\n",
    "            break\n",
    "            \n",
    "        x_val +=1\n",
    "        # scheduler.step()"
   ]
  },
  {
   "cell_type": "code",
   "execution_count": 98,
   "metadata": {},
   "outputs": [
    {
     "data": {
      "text/plain": [
       "<Figure size 640x480 with 0 Axes>"
      ]
     },
     "execution_count": 98,
     "metadata": {},
     "output_type": "execute_result"
    },
    {
     "data": {
      "image/png": "[encoded data removed]",
      "text/plain": [
       "<Figure size 640x480 with 1 Axes>"
      ]
     },
     "metadata": {},
     "output_type": "display_data"
    },
    {
     "data": {
      "image/png": "[encoded data removed]",
      "text/plain": [
       "<Figure size 640x480 with 1 Axes>"
      ]
     },
     "metadata": {},
     "output_type": "display_data"
    },
    {
     "data": {
      "text/plain": [
       "<Figure size 640x480 with 0 Axes>"
      ]
     },
     "metadata": {},
     "output_type": "display_data"
    }
   ],
   "source": [
    "# output,_ = rnn(input[40].to(device))\n",
    "# output = [unique_chars[i] for i in torch.argmax(output, dim=1).tolist()]\n",
    "# output = torch.tensor(unique_chars)\n",
    "# [torch.argmax(output, dim=1)]\n",
    "# print(batches[40])\n",
    "# # print((output))\n",
    "# # print(output)\n",
    "# print(error)\n",
    "# print(current_labels)\n",
    "# print(torch.argmax(output,dim=1))\n",
    "# test = [1,2,3,4,5]\n",
    "\n",
    "# training_error_values = [i.cpu().item() for i in training_error_values]\n",
    "# validation_error_values = [i.cpu().item() for i in validation_error_values]\n",
    "# validation_loss_values = [i.cpu().item() for i in validation_loss_values]\n",
    "\n",
    "\n",
    "plt.figure()\n",
    "plt.plot(x_vals,training_loss_values)\n",
    "plt.xlabel('Weight Update Iteration')\n",
    "plt.ylabel('Loss Value')\n",
    "plt.title('Training Loss')\n",
    "plt.figure()\n",
    "plt.plot(x_vals, training_error_values)\n",
    "plt.xlabel('Weight Update Iteration')\n",
    "plt.ylabel('Error')\n",
    "plt.title('Training Error')\n",
    "plt.figure()\n",
    "# plt.plot(validation_x_vals, validation_loss_values)\n",
    "# plt.xlabel('Weight Update Iteration')\n",
    "# plt.ylabel('Loss Value')\n",
    "# plt.title('Validation Loss')\n",
    "# plt.figure()\n",
    "# plt.plot(validation_x_vals, validation_error_values)\n",
    "# plt.xlabel('Weight Update Iteration')\n",
    "# plt.ylabel('Error')\n",
    "# plt.title('Validation Error')\n",
    "# plt.show()"
   ]
  },
  {
   "cell_type": "code",
   "execution_count": 108,
   "metadata": {},
   "outputs": [
    {
     "name": "stdout",
     "output_type": "stream",
     "text": [
      "[32, 10574, 31992]\n"
     ]
    },
    {
     "ename": "RuntimeError",
     "evalue": "prob_dist must be 1 or 2 dim",
     "output_type": "error",
     "traceback": [
      "\u001b[1;31m---------------------------------------------------------------------------\u001b[0m",
      "\u001b[1;31mRuntimeError\u001b[0m                              Traceback (most recent call last)",
      "\u001b[1;32m~\\AppData\\Local\\Temp\\ipykernel_54488\\3749698566.py\u001b[0m in \u001b[0;36m<module>\u001b[1;34m\u001b[0m\n\u001b[0;32m     14\u001b[0m         \u001b[0mnext_softmax\u001b[0m \u001b[1;33m=\u001b[0m \u001b[0msoftmax_with_temperature\u001b[0m\u001b[1;33m(\u001b[0m\u001b[0mnext_char\u001b[0m\u001b[1;33m,\u001b[0m \u001b[0mtest_temperature\u001b[0m\u001b[1;33m)\u001b[0m\u001b[1;33m\u001b[0m\u001b[1;33m\u001b[0m\u001b[0m\n\u001b[0;32m     15\u001b[0m         \u001b[1;31m# predicted_char = torch.argmax(next_softmax,dim=1)\u001b[0m\u001b[1;33m\u001b[0m\u001b[1;33m\u001b[0m\u001b[0m\n\u001b[1;32m---> 16\u001b[1;33m         \u001b[0mpredicted_char\u001b[0m \u001b[1;33m=\u001b[0m \u001b[0mtorch\u001b[0m\u001b[1;33m.\u001b[0m\u001b[0mmultinomial\u001b[0m\u001b[1;33m(\u001b[0m\u001b[0mnext_softmax\u001b[0m\u001b[1;33m,\u001b[0m\u001b[1;36m1\u001b[0m\u001b[1;33m)\u001b[0m\u001b[1;33m\u001b[0m\u001b[1;33m\u001b[0m\u001b[0m\n\u001b[0m\u001b[0;32m     17\u001b[0m         \u001b[1;31m# letter = unique_chars[predicted_char[-1]]\u001b[0m\u001b[1;33m\u001b[0m\u001b[1;33m\u001b[0m\u001b[0m\n\u001b[0;32m     18\u001b[0m         \u001b[0mletter\u001b[0m \u001b[1;33m=\u001b[0m \u001b[0mtokenizer\u001b[0m\u001b[1;33m.\u001b[0m\u001b[0mdecode\u001b[0m\u001b[1;33m(\u001b[0m\u001b[1;33m[\u001b[0m\u001b[0mpredicted_char\u001b[0m\u001b[1;33m[\u001b[0m\u001b[1;33m-\u001b[0m\u001b[1;36m1\u001b[0m\u001b[1;33m]\u001b[0m\u001b[1;33m.\u001b[0m\u001b[0mitem\u001b[0m\u001b[1;33m(\u001b[0m\u001b[1;33m)\u001b[0m\u001b[1;33m]\u001b[0m\u001b[1;33m)\u001b[0m\u001b[1;33m\u001b[0m\u001b[1;33m\u001b[0m\u001b[0m\n",
      "\u001b[1;31mRuntimeError\u001b[0m: prob_dist must be 1 or 2 dim"
     ]
    }
   ],
   "source": [
    "test_temperature = 0.5\n",
    "transformer_model.eval()\n",
    "capital_letters = [chr(i) for i in range(65, 91)]\n",
    "example_sentences = []\n",
    "initialize = [\"A silent whisper\", \"Over the horizon\", \"Beneath the star\", \"Waves crashed on\", \"In the deep void\"]\n",
    "for i in range(5):\n",
    "    sentence = initialize[i]\n",
    "    tokenized_sentence = tokenizer.encode(sentence)\n",
    "    next_char = torch.tensor(tokenized_sentence).long().to(device)\n",
    "    for j in range(250):\n",
    "        next_char = transformer_model(next_char)\n",
    "        # print(next_char.shape)\n",
    "        next_softmax = softmax_with_temperature(next_char, test_temperature)\n",
    "        # predicted_char = torch.argmax(next_softmax,dim=1)\n",
    "        predicted_char = torch.multinomial(next_softmax,1)\n",
    "        # letter = unique_chars[predicted_char[-1]]\n",
    "        letter = tokenizer.decode([predicted_char[-1].item()])\n",
    "        sentence += letter\n",
    "        # next_char = torch.tensor(tokenize(sentence)).long().to(device)\n",
    "        next_tokenized_sentence = tokenizer.encode(sentence)\n",
    "        next_char = torch.tensor(next_tokenized_sentence).long().to(device)\n",
    "    example_sentences.append(sentence)\n",
    "example_sentences = np.array(example_sentences)\n",
    "print(example_sentences[0])\n",
    "print(example_sentences[1])\n",
    "print(example_sentences[2])\n",
    "print(example_sentences[3])\n",
    "print(example_sentences[4])"
   ]
  }
 ],
 "metadata": {
  "kernelspec": {
   "display_name": "base",
   "language": "python",
   "name": "python3"
  },
  "language_info": {
   "codemirror_mode": {
    "name": "ipython",
    "version": 3
   },
   "file_extension": ".py",
   "mimetype": "text/x-python",
   "name": "python",
   "nbconvert_exporter": "python",
   "pygments_lexer": "ipython3",
   "version": "3.9.13"
  },
  "orig_nbformat": 4
 },
 "nbformat": 4,
 "nbformat_minor": 2
}
